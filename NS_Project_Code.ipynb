{
  "cells": [
    {
      "cell_type": "markdown",
      "metadata": {
        "id": "pV7nZzRBmjCW"
      },
      "source": [
        "# **Social Network Graph Link Prediction**"
      ]
    },
    {
      "cell_type": "markdown",
      "metadata": {
        "id": "WcoST3b1dCRr"
      },
      "source": [
        "### **Importing Libraries**"
      ]
    },
    {
      "cell_type": "code",
      "execution_count": 1,
      "metadata": {
        "id": "TewC6CPscBsq"
      },
      "outputs": [],
      "source": [
        "from google.colab import drive\n",
        "import random\n",
        "import math\n",
        "import pandas as pd\n",
        "import numpy as np\n",
        "import networkx as nx\n",
        "from itertools import product\n",
        "import pickle\n",
        "import itertools\n",
        "\n",
        "# for data analysis & plotting\n",
        "import seaborn as sns\n",
        "import matplotlib.pyplot as plt\n",
        "from prettytable import PrettyTable\n",
        "import collections\n",
        "from sklearn.decomposition import PCA\n",
        "%matplotlib inline\n",
        "\n",
        "from sklearn.model_selection import train_test_split\n",
        "\n",
        "#for feature engineering\n",
        "from sklearn.preprocessing import MinMaxScaler\n",
        "from sklearn.preprocessing import StandardScaler\n",
        "from scipy.sparse.linalg import svds\n",
        "from sklearn.feature_selection import SelectKBest\n",
        "from sklearn.feature_selection import f_classif\n",
        "from sklearn.feature_selection import SelectFdr\n",
        "from sklearn.feature_selection import SelectKBest, chi2\n",
        "from sklearn.feature_selection import VarianceThreshold\n",
        "import statistics\n",
        "\n",
        "# for ML models\n",
        "from sklearn.ensemble import RandomForestClassifier\n",
        "from sklearn.model_selection import GridSearchCV\n",
        "from sklearn.linear_model import LogisticRegression\n",
        "from sklearn.naive_bayes import GaussianNB\n",
        "from sklearn.neural_network import MLPClassifier\n",
        "from sklearn.svm import SVC\n",
        "from sklearn.pipeline import make_pipeline\n",
        "from xgboost.sklearn import XGBClassifier\n",
        "from sklearn.tree import DecisionTreeClassifier\n",
        "from sklearn.pipeline import Pipeline\n",
        "\n",
        "\n",
        "from sklearn.model_selection import KFold\n",
        "from sklearn.metrics import f1_score\n",
        "from sklearn.model_selection import cross_val_score\n",
        "\n",
        "# for evaluation metrics\n",
        "from sklearn.metrics import accuracy_score\n",
        "from sklearn.metrics import f1_score\n",
        "from sklearn.metrics import confusion_matrix\n",
        "from sklearn.metrics import plot_confusion_matrix\n",
        "from sklearn.metrics import classification_report\n",
        "\n",
        "from tqdm import tqdm"
      ]
    },
    {
      "cell_type": "markdown",
      "metadata": {
        "id": "_6mF7kWrm9sW"
      },
      "source": [
        "### **Uploading Dataset**"
      ]
    },
    {
      "cell_type": "code",
      "execution_count": 2,
      "metadata": {
        "colab": {
          "base_uri": "https://localhost:8080/"
        },
        "id": "SwSDhMn1YHDH",
        "outputId": "b62cf09b-b14d-4be5-c28b-a10c19111cce"
      },
      "outputs": [
        {
          "output_type": "stream",
          "name": "stdout",
          "text": [
            "Mounted at /content/drive\n"
          ]
        }
      ],
      "source": [
        "#Mounting Drive\n",
        "drive.mount('/content/drive')"
      ]
    },
    {
      "cell_type": "markdown",
      "metadata": {
        "id": "kOXan4ppdqvx"
      },
      "source": [
        "### **A. Loading & Preparing Data**"
      ]
    },
    {
      "cell_type": "code",
      "execution_count": 4,
      "metadata": {
        "id": "1duCZ_gxwyWR"
      },
      "outputs": [],
      "source": [
        "\n",
        "df=pd.read_csv(\"/content/drive/MyDrive/NS Project Dataset/training.txt\", sep=\" \", header=None, names= [\"source\", \"target\",\"class\"])\n",
        "\n"
      ]
    },
    {
      "cell_type": "code",
      "source": [
        "df1=df.drop(\"class\",axis=1)"
      ],
      "metadata": {
        "id": "n-nPhbJRB7NV"
      },
      "execution_count": 6,
      "outputs": []
    },
    {
      "cell_type": "markdown",
      "metadata": {
        "id": "Zw1b5JDdGsoI"
      },
      "source": [
        "**checking whether graph is connected**"
      ]
    },
    {
      "cell_type": "code",
      "execution_count": 7,
      "metadata": {
        "colab": {
          "base_uri": "https://localhost:8080/"
        },
        "id": "KiveFA8P8eY6",
        "outputId": "24439c5a-7bd1-4f2d-91a2-022933e66ee6"
      },
      "outputs": [
        {
          "output_type": "stream",
          "name": "stdout",
          "text": [
            "True\n",
            "1\n"
          ]
        }
      ],
      "source": [
        "g = nx.from_pandas_edgelist(df1, create_using = nx.Graph())\n",
        "print(nx.is_connected(g))\n",
        "print(nx.number_connected_components(g))"
      ]
    },
    {
      "cell_type": "markdown",
      "metadata": {
        "id": "lboU7L9xnfRD"
      },
      "source": [
        "**Renaming Columns**"
      ]
    },
    {
      "cell_type": "code",
      "execution_count": 8,
      "metadata": {
        "colab": {
          "base_uri": "https://localhost:8080/",
          "height": 112
        },
        "id": "pIFRhXxadJ3o",
        "outputId": "12f6d7d6-afd0-42be-da56-5b24fc12f505"
      },
      "outputs": [
        {
          "output_type": "execute_result",
          "data": {
            "text/plain": [
              "   Source  Destination\n",
              "0   10481         5428\n",
              "1    7353        30328"
            ],
            "text/html": [
              "\n",
              "  <div id=\"df-58b8076c-b259-44fb-a3c2-4589ed0ccfba\">\n",
              "    <div class=\"colab-df-container\">\n",
              "      <div>\n",
              "<style scoped>\n",
              "    .dataframe tbody tr th:only-of-type {\n",
              "        vertical-align: middle;\n",
              "    }\n",
              "\n",
              "    .dataframe tbody tr th {\n",
              "        vertical-align: top;\n",
              "    }\n",
              "\n",
              "    .dataframe thead th {\n",
              "        text-align: right;\n",
              "    }\n",
              "</style>\n",
              "<table border=\"1\" class=\"dataframe\">\n",
              "  <thead>\n",
              "    <tr style=\"text-align: right;\">\n",
              "      <th></th>\n",
              "      <th>Source</th>\n",
              "      <th>Destination</th>\n",
              "    </tr>\n",
              "  </thead>\n",
              "  <tbody>\n",
              "    <tr>\n",
              "      <th>0</th>\n",
              "      <td>10481</td>\n",
              "      <td>5428</td>\n",
              "    </tr>\n",
              "    <tr>\n",
              "      <th>1</th>\n",
              "      <td>7353</td>\n",
              "      <td>30328</td>\n",
              "    </tr>\n",
              "  </tbody>\n",
              "</table>\n",
              "</div>\n",
              "      <button class=\"colab-df-convert\" onclick=\"convertToInteractive('df-58b8076c-b259-44fb-a3c2-4589ed0ccfba')\"\n",
              "              title=\"Convert this dataframe to an interactive table.\"\n",
              "              style=\"display:none;\">\n",
              "        \n",
              "  <svg xmlns=\"http://www.w3.org/2000/svg\" height=\"24px\"viewBox=\"0 0 24 24\"\n",
              "       width=\"24px\">\n",
              "    <path d=\"M0 0h24v24H0V0z\" fill=\"none\"/>\n",
              "    <path d=\"M18.56 5.44l.94 2.06.94-2.06 2.06-.94-2.06-.94-.94-2.06-.94 2.06-2.06.94zm-11 1L8.5 8.5l.94-2.06 2.06-.94-2.06-.94L8.5 2.5l-.94 2.06-2.06.94zm10 10l.94 2.06.94-2.06 2.06-.94-2.06-.94-.94-2.06-.94 2.06-2.06.94z\"/><path d=\"M17.41 7.96l-1.37-1.37c-.4-.4-.92-.59-1.43-.59-.52 0-1.04.2-1.43.59L10.3 9.45l-7.72 7.72c-.78.78-.78 2.05 0 2.83L4 21.41c.39.39.9.59 1.41.59.51 0 1.02-.2 1.41-.59l7.78-7.78 2.81-2.81c.8-.78.8-2.07 0-2.86zM5.41 20L4 18.59l7.72-7.72 1.47 1.35L5.41 20z\"/>\n",
              "  </svg>\n",
              "      </button>\n",
              "      \n",
              "  <style>\n",
              "    .colab-df-container {\n",
              "      display:flex;\n",
              "      flex-wrap:wrap;\n",
              "      gap: 12px;\n",
              "    }\n",
              "\n",
              "    .colab-df-convert {\n",
              "      background-color: #E8F0FE;\n",
              "      border: none;\n",
              "      border-radius: 50%;\n",
              "      cursor: pointer;\n",
              "      display: none;\n",
              "      fill: #1967D2;\n",
              "      height: 32px;\n",
              "      padding: 0 0 0 0;\n",
              "      width: 32px;\n",
              "    }\n",
              "\n",
              "    .colab-df-convert:hover {\n",
              "      background-color: #E2EBFA;\n",
              "      box-shadow: 0px 1px 2px rgba(60, 64, 67, 0.3), 0px 1px 3px 1px rgba(60, 64, 67, 0.15);\n",
              "      fill: #174EA6;\n",
              "    }\n",
              "\n",
              "    [theme=dark] .colab-df-convert {\n",
              "      background-color: #3B4455;\n",
              "      fill: #D2E3FC;\n",
              "    }\n",
              "\n",
              "    [theme=dark] .colab-df-convert:hover {\n",
              "      background-color: #434B5C;\n",
              "      box-shadow: 0px 1px 3px 1px rgba(0, 0, 0, 0.15);\n",
              "      filter: drop-shadow(0px 1px 2px rgba(0, 0, 0, 0.3));\n",
              "      fill: #FFFFFF;\n",
              "    }\n",
              "  </style>\n",
              "\n",
              "      <script>\n",
              "        const buttonEl =\n",
              "          document.querySelector('#df-58b8076c-b259-44fb-a3c2-4589ed0ccfba button.colab-df-convert');\n",
              "        buttonEl.style.display =\n",
              "          google.colab.kernel.accessAllowed ? 'block' : 'none';\n",
              "\n",
              "        async function convertToInteractive(key) {\n",
              "          const element = document.querySelector('#df-58b8076c-b259-44fb-a3c2-4589ed0ccfba');\n",
              "          const dataTable =\n",
              "            await google.colab.kernel.invokeFunction('convertToInteractive',\n",
              "                                                     [key], {});\n",
              "          if (!dataTable) return;\n",
              "\n",
              "          const docLinkHtml = 'Like what you see? Visit the ' +\n",
              "            '<a target=\"_blank\" href=https://colab.research.google.com/notebooks/data_table.ipynb>data table notebook</a>'\n",
              "            + ' to learn more about interactive tables.';\n",
              "          element.innerHTML = '';\n",
              "          dataTable['output_type'] = 'display_data';\n",
              "          await google.colab.output.renderOutput(dataTable, element);\n",
              "          const docLink = document.createElement('div');\n",
              "          docLink.innerHTML = docLinkHtml;\n",
              "          element.appendChild(docLink);\n",
              "        }\n",
              "      </script>\n",
              "    </div>\n",
              "  </div>\n",
              "  "
            ]
          },
          "metadata": {},
          "execution_count": 8
        }
      ],
      "source": [
        "df1 = df1.rename(columns={\"source\": \"Source\", \"target\": \"Destination\"})\n",
        "dataFrame = df1.copy()\n",
        "df1.head(2)"
      ]
    },
    {
      "cell_type": "code",
      "execution_count": 9,
      "metadata": {
        "colab": {
          "base_uri": "https://localhost:8080/"
        },
        "id": "g8kQJXii1Flp",
        "outputId": "ae94b198-f701-4f37-e491-9653aa869101"
      },
      "outputs": [
        {
          "output_type": "execute_result",
          "data": {
            "text/plain": [
              "453797"
            ]
          },
          "metadata": {},
          "execution_count": 9
        }
      ],
      "source": [
        "# number of unique edges\n",
        "df1.groupby(['Source','Destination']).ngroups"
      ]
    },
    {
      "cell_type": "markdown",
      "metadata": {
        "id": "f0M6kL15gF0p"
      },
      "source": [
        "#### **Creating Directed Graph**"
      ]
    },
    {
      "cell_type": "code",
      "execution_count": 11,
      "metadata": {
        "colab": {
          "base_uri": "https://localhost:8080/"
        },
        "id": "H1eDa6cGhNZ8",
        "outputId": "fa4b872b-3c73-4baa-d828-14202141fcee"
      },
      "outputs": [
        {
          "output_type": "stream",
          "name": "stderr",
          "text": [
            "453797it [00:39, 11607.76it/s]"
          ]
        },
        {
          "output_type": "stream",
          "name": "stdout",
          "text": [
            "DiGraph with 33226 nodes and 453797 edges\n"
          ]
        },
        {
          "output_type": "stream",
          "name": "stderr",
          "text": [
            "\n"
          ]
        }
      ],
      "source": [
        "original_graph = nx.DiGraph()\n",
        "\n",
        "for index,row in tqdm(df1.iterrows()):\n",
        "  source = row['Source']\n",
        "  dest =  row['Destination']\n",
        "  original_graph.add_edge(source,dest)\n",
        "\n",
        "print(nx.info(original_graph))"
      ]
    },
    {
      "cell_type": "markdown",
      "metadata": {
        "id": "K8_f4WSuojIE"
      },
      "source": [
        "#### **Mapping To A Supervized Classification Problem**"
      ]
    },
    {
      "cell_type": "markdown",
      "metadata": {
        "id": "WT-g5h3sprHi"
      },
      "source": [
        "##### 1. Adding Positive Label i.e. 1 (Presence of Edge)"
      ]
    },
    {
      "cell_type": "code",
      "source": [
        "train_data=df.loc[df['class'] == 1]\n",
        "train_data=train_data.rename(columns={\"source\": \"Source\", \"target\": \"Destination\",\"class\":\"Class\"})"
      ],
      "metadata": {
        "id": "brAhXUQJI8mx"
      },
      "execution_count": 13,
      "outputs": []
    },
    {
      "cell_type": "markdown",
      "metadata": {
        "id": "7t6MfgYWp2kJ"
      },
      "source": [
        "##### 2. Adding Negative Label i.e. 0 (Absence of Edge)"
      ]
    },
    {
      "cell_type": "code",
      "source": [
        "negative_edges=df.loc[df['class'] == 0]"
      ],
      "metadata": {
        "id": "0onYcdQ9G3Yc"
      },
      "execution_count": 17,
      "outputs": []
    },
    {
      "cell_type": "code",
      "source": [
        "negative_edges=negative_edges.rename(columns={\"source\": \"Source\", \"target\": \"Destination\",\"class\":\"Class\"})"
      ],
      "metadata": {
        "id": "VEukW_4-H8su"
      },
      "execution_count": 18,
      "outputs": []
    },
    {
      "cell_type": "code",
      "source": [
        "negative_edges.head(2)"
      ],
      "metadata": {
        "colab": {
          "base_uri": "https://localhost:8080/",
          "height": 112
        },
        "id": "zqI620qaH0vP",
        "outputId": "3cb33c39-0393-4eb4-8f0e-ea443a4bd979"
      },
      "execution_count": 19,
      "outputs": [
        {
          "output_type": "execute_result",
          "data": {
            "text/plain": [
              "   Source  Destination  Class\n",
              "1    7353        30328      0\n",
              "5    6866         9656      0"
            ],
            "text/html": [
              "\n",
              "  <div id=\"df-d12622db-dc89-4a64-aaca-22410a5ebdbf\">\n",
              "    <div class=\"colab-df-container\">\n",
              "      <div>\n",
              "<style scoped>\n",
              "    .dataframe tbody tr th:only-of-type {\n",
              "        vertical-align: middle;\n",
              "    }\n",
              "\n",
              "    .dataframe tbody tr th {\n",
              "        vertical-align: top;\n",
              "    }\n",
              "\n",
              "    .dataframe thead th {\n",
              "        text-align: right;\n",
              "    }\n",
              "</style>\n",
              "<table border=\"1\" class=\"dataframe\">\n",
              "  <thead>\n",
              "    <tr style=\"text-align: right;\">\n",
              "      <th></th>\n",
              "      <th>Source</th>\n",
              "      <th>Destination</th>\n",
              "      <th>Class</th>\n",
              "    </tr>\n",
              "  </thead>\n",
              "  <tbody>\n",
              "    <tr>\n",
              "      <th>1</th>\n",
              "      <td>7353</td>\n",
              "      <td>30328</td>\n",
              "      <td>0</td>\n",
              "    </tr>\n",
              "    <tr>\n",
              "      <th>5</th>\n",
              "      <td>6866</td>\n",
              "      <td>9656</td>\n",
              "      <td>0</td>\n",
              "    </tr>\n",
              "  </tbody>\n",
              "</table>\n",
              "</div>\n",
              "      <button class=\"colab-df-convert\" onclick=\"convertToInteractive('df-d12622db-dc89-4a64-aaca-22410a5ebdbf')\"\n",
              "              title=\"Convert this dataframe to an interactive table.\"\n",
              "              style=\"display:none;\">\n",
              "        \n",
              "  <svg xmlns=\"http://www.w3.org/2000/svg\" height=\"24px\"viewBox=\"0 0 24 24\"\n",
              "       width=\"24px\">\n",
              "    <path d=\"M0 0h24v24H0V0z\" fill=\"none\"/>\n",
              "    <path d=\"M18.56 5.44l.94 2.06.94-2.06 2.06-.94-2.06-.94-.94-2.06-.94 2.06-2.06.94zm-11 1L8.5 8.5l.94-2.06 2.06-.94-2.06-.94L8.5 2.5l-.94 2.06-2.06.94zm10 10l.94 2.06.94-2.06 2.06-.94-2.06-.94-.94-2.06-.94 2.06-2.06.94z\"/><path d=\"M17.41 7.96l-1.37-1.37c-.4-.4-.92-.59-1.43-.59-.52 0-1.04.2-1.43.59L10.3 9.45l-7.72 7.72c-.78.78-.78 2.05 0 2.83L4 21.41c.39.39.9.59 1.41.59.51 0 1.02-.2 1.41-.59l7.78-7.78 2.81-2.81c.8-.78.8-2.07 0-2.86zM5.41 20L4 18.59l7.72-7.72 1.47 1.35L5.41 20z\"/>\n",
              "  </svg>\n",
              "      </button>\n",
              "      \n",
              "  <style>\n",
              "    .colab-df-container {\n",
              "      display:flex;\n",
              "      flex-wrap:wrap;\n",
              "      gap: 12px;\n",
              "    }\n",
              "\n",
              "    .colab-df-convert {\n",
              "      background-color: #E8F0FE;\n",
              "      border: none;\n",
              "      border-radius: 50%;\n",
              "      cursor: pointer;\n",
              "      display: none;\n",
              "      fill: #1967D2;\n",
              "      height: 32px;\n",
              "      padding: 0 0 0 0;\n",
              "      width: 32px;\n",
              "    }\n",
              "\n",
              "    .colab-df-convert:hover {\n",
              "      background-color: #E2EBFA;\n",
              "      box-shadow: 0px 1px 2px rgba(60, 64, 67, 0.3), 0px 1px 3px 1px rgba(60, 64, 67, 0.15);\n",
              "      fill: #174EA6;\n",
              "    }\n",
              "\n",
              "    [theme=dark] .colab-df-convert {\n",
              "      background-color: #3B4455;\n",
              "      fill: #D2E3FC;\n",
              "    }\n",
              "\n",
              "    [theme=dark] .colab-df-convert:hover {\n",
              "      background-color: #434B5C;\n",
              "      box-shadow: 0px 1px 3px 1px rgba(0, 0, 0, 0.15);\n",
              "      filter: drop-shadow(0px 1px 2px rgba(0, 0, 0, 0.3));\n",
              "      fill: #FFFFFF;\n",
              "    }\n",
              "  </style>\n",
              "\n",
              "      <script>\n",
              "        const buttonEl =\n",
              "          document.querySelector('#df-d12622db-dc89-4a64-aaca-22410a5ebdbf button.colab-df-convert');\n",
              "        buttonEl.style.display =\n",
              "          google.colab.kernel.accessAllowed ? 'block' : 'none';\n",
              "\n",
              "        async function convertToInteractive(key) {\n",
              "          const element = document.querySelector('#df-d12622db-dc89-4a64-aaca-22410a5ebdbf');\n",
              "          const dataTable =\n",
              "            await google.colab.kernel.invokeFunction('convertToInteractive',\n",
              "                                                     [key], {});\n",
              "          if (!dataTable) return;\n",
              "\n",
              "          const docLinkHtml = 'Like what you see? Visit the ' +\n",
              "            '<a target=\"_blank\" href=https://colab.research.google.com/notebooks/data_table.ipynb>data table notebook</a>'\n",
              "            + ' to learn more about interactive tables.';\n",
              "          element.innerHTML = '';\n",
              "          dataTable['output_type'] = 'display_data';\n",
              "          await google.colab.output.renderOutput(dataTable, element);\n",
              "          const docLink = document.createElement('div');\n",
              "          docLink.innerHTML = docLinkHtml;\n",
              "          element.appendChild(docLink);\n",
              "        }\n",
              "      </script>\n",
              "    </div>\n",
              "  </div>\n",
              "  "
            ]
          },
          "metadata": {},
          "execution_count": 19
        }
      ]
    },
    {
      "cell_type": "markdown",
      "metadata": {
        "id": "ggw2v5ZQsIC7"
      },
      "source": [
        "##### 3. Concatenating Positive & Negative Labelled Dataframes"
      ]
    },
    {
      "cell_type": "code",
      "execution_count": 20,
      "metadata": {
        "id": "fS-RbL21sHbN",
        "colab": {
          "base_uri": "https://localhost:8080/",
          "height": 129
        },
        "outputId": "bc4f5e04-a1f8-4f75-f011-a238612a1f9b"
      },
      "outputs": [
        {
          "output_type": "stream",
          "name": "stdout",
          "text": [
            "(453797, 3)\n"
          ]
        },
        {
          "output_type": "execute_result",
          "data": {
            "text/plain": [
              "   Source  Destination  Class\n",
              "0   10481         5428      1\n",
              "2    8627         3547      1"
            ],
            "text/html": [
              "\n",
              "  <div id=\"df-bec89a2b-db2e-46cb-b16c-1a87003b45dd\">\n",
              "    <div class=\"colab-df-container\">\n",
              "      <div>\n",
              "<style scoped>\n",
              "    .dataframe tbody tr th:only-of-type {\n",
              "        vertical-align: middle;\n",
              "    }\n",
              "\n",
              "    .dataframe tbody tr th {\n",
              "        vertical-align: top;\n",
              "    }\n",
              "\n",
              "    .dataframe thead th {\n",
              "        text-align: right;\n",
              "    }\n",
              "</style>\n",
              "<table border=\"1\" class=\"dataframe\">\n",
              "  <thead>\n",
              "    <tr style=\"text-align: right;\">\n",
              "      <th></th>\n",
              "      <th>Source</th>\n",
              "      <th>Destination</th>\n",
              "      <th>Class</th>\n",
              "    </tr>\n",
              "  </thead>\n",
              "  <tbody>\n",
              "    <tr>\n",
              "      <th>0</th>\n",
              "      <td>10481</td>\n",
              "      <td>5428</td>\n",
              "      <td>1</td>\n",
              "    </tr>\n",
              "    <tr>\n",
              "      <th>2</th>\n",
              "      <td>8627</td>\n",
              "      <td>3547</td>\n",
              "      <td>1</td>\n",
              "    </tr>\n",
              "  </tbody>\n",
              "</table>\n",
              "</div>\n",
              "      <button class=\"colab-df-convert\" onclick=\"convertToInteractive('df-bec89a2b-db2e-46cb-b16c-1a87003b45dd')\"\n",
              "              title=\"Convert this dataframe to an interactive table.\"\n",
              "              style=\"display:none;\">\n",
              "        \n",
              "  <svg xmlns=\"http://www.w3.org/2000/svg\" height=\"24px\"viewBox=\"0 0 24 24\"\n",
              "       width=\"24px\">\n",
              "    <path d=\"M0 0h24v24H0V0z\" fill=\"none\"/>\n",
              "    <path d=\"M18.56 5.44l.94 2.06.94-2.06 2.06-.94-2.06-.94-.94-2.06-.94 2.06-2.06.94zm-11 1L8.5 8.5l.94-2.06 2.06-.94-2.06-.94L8.5 2.5l-.94 2.06-2.06.94zm10 10l.94 2.06.94-2.06 2.06-.94-2.06-.94-.94-2.06-.94 2.06-2.06.94z\"/><path d=\"M17.41 7.96l-1.37-1.37c-.4-.4-.92-.59-1.43-.59-.52 0-1.04.2-1.43.59L10.3 9.45l-7.72 7.72c-.78.78-.78 2.05 0 2.83L4 21.41c.39.39.9.59 1.41.59.51 0 1.02-.2 1.41-.59l7.78-7.78 2.81-2.81c.8-.78.8-2.07 0-2.86zM5.41 20L4 18.59l7.72-7.72 1.47 1.35L5.41 20z\"/>\n",
              "  </svg>\n",
              "      </button>\n",
              "      \n",
              "  <style>\n",
              "    .colab-df-container {\n",
              "      display:flex;\n",
              "      flex-wrap:wrap;\n",
              "      gap: 12px;\n",
              "    }\n",
              "\n",
              "    .colab-df-convert {\n",
              "      background-color: #E8F0FE;\n",
              "      border: none;\n",
              "      border-radius: 50%;\n",
              "      cursor: pointer;\n",
              "      display: none;\n",
              "      fill: #1967D2;\n",
              "      height: 32px;\n",
              "      padding: 0 0 0 0;\n",
              "      width: 32px;\n",
              "    }\n",
              "\n",
              "    .colab-df-convert:hover {\n",
              "      background-color: #E2EBFA;\n",
              "      box-shadow: 0px 1px 2px rgba(60, 64, 67, 0.3), 0px 1px 3px 1px rgba(60, 64, 67, 0.15);\n",
              "      fill: #174EA6;\n",
              "    }\n",
              "\n",
              "    [theme=dark] .colab-df-convert {\n",
              "      background-color: #3B4455;\n",
              "      fill: #D2E3FC;\n",
              "    }\n",
              "\n",
              "    [theme=dark] .colab-df-convert:hover {\n",
              "      background-color: #434B5C;\n",
              "      box-shadow: 0px 1px 3px 1px rgba(0, 0, 0, 0.15);\n",
              "      filter: drop-shadow(0px 1px 2px rgba(0, 0, 0, 0.3));\n",
              "      fill: #FFFFFF;\n",
              "    }\n",
              "  </style>\n",
              "\n",
              "      <script>\n",
              "        const buttonEl =\n",
              "          document.querySelector('#df-bec89a2b-db2e-46cb-b16c-1a87003b45dd button.colab-df-convert');\n",
              "        buttonEl.style.display =\n",
              "          google.colab.kernel.accessAllowed ? 'block' : 'none';\n",
              "\n",
              "        async function convertToInteractive(key) {\n",
              "          const element = document.querySelector('#df-bec89a2b-db2e-46cb-b16c-1a87003b45dd');\n",
              "          const dataTable =\n",
              "            await google.colab.kernel.invokeFunction('convertToInteractive',\n",
              "                                                     [key], {});\n",
              "          if (!dataTable) return;\n",
              "\n",
              "          const docLinkHtml = 'Like what you see? Visit the ' +\n",
              "            '<a target=\"_blank\" href=https://colab.research.google.com/notebooks/data_table.ipynb>data table notebook</a>'\n",
              "            + ' to learn more about interactive tables.';\n",
              "          element.innerHTML = '';\n",
              "          dataTable['output_type'] = 'display_data';\n",
              "          await google.colab.output.renderOutput(dataTable, element);\n",
              "          const docLink = document.createElement('div');\n",
              "          docLink.innerHTML = docLinkHtml;\n",
              "          element.appendChild(docLink);\n",
              "        }\n",
              "      </script>\n",
              "    </div>\n",
              "  </div>\n",
              "  "
            ]
          },
          "metadata": {},
          "execution_count": 20
        }
      ],
      "source": [
        "labeled_train_data = pd.concat([train_data,negative_edges])\n",
        "print(labeled_train_data.shape)\n",
        "labeled_train_data.head(2)"
      ]
    },
    {
      "cell_type": "markdown",
      "metadata": {
        "id": "G8mZtHU3taWJ"
      },
      "source": [
        "##### 4. Shuffling Data Randomly"
      ]
    },
    {
      "cell_type": "code",
      "execution_count": 21,
      "metadata": {
        "id": "J4FPBcgPtVIM",
        "colab": {
          "base_uri": "https://localhost:8080/",
          "height": 206
        },
        "outputId": "05cd699f-d584-4bd2-fe5d-62ed51e001d9"
      },
      "outputs": [
        {
          "output_type": "execute_result",
          "data": {
            "text/plain": [
              "   Source  Destination  Class\n",
              "0    4739         7721      0\n",
              "1     108         9320      1\n",
              "2   25125        12951      0\n",
              "3   24497        21545      0\n",
              "4   18151         1179      1"
            ],
            "text/html": [
              "\n",
              "  <div id=\"df-36a545c1-2fba-44de-944e-a8a0bb2b17ec\">\n",
              "    <div class=\"colab-df-container\">\n",
              "      <div>\n",
              "<style scoped>\n",
              "    .dataframe tbody tr th:only-of-type {\n",
              "        vertical-align: middle;\n",
              "    }\n",
              "\n",
              "    .dataframe tbody tr th {\n",
              "        vertical-align: top;\n",
              "    }\n",
              "\n",
              "    .dataframe thead th {\n",
              "        text-align: right;\n",
              "    }\n",
              "</style>\n",
              "<table border=\"1\" class=\"dataframe\">\n",
              "  <thead>\n",
              "    <tr style=\"text-align: right;\">\n",
              "      <th></th>\n",
              "      <th>Source</th>\n",
              "      <th>Destination</th>\n",
              "      <th>Class</th>\n",
              "    </tr>\n",
              "  </thead>\n",
              "  <tbody>\n",
              "    <tr>\n",
              "      <th>0</th>\n",
              "      <td>4739</td>\n",
              "      <td>7721</td>\n",
              "      <td>0</td>\n",
              "    </tr>\n",
              "    <tr>\n",
              "      <th>1</th>\n",
              "      <td>108</td>\n",
              "      <td>9320</td>\n",
              "      <td>1</td>\n",
              "    </tr>\n",
              "    <tr>\n",
              "      <th>2</th>\n",
              "      <td>25125</td>\n",
              "      <td>12951</td>\n",
              "      <td>0</td>\n",
              "    </tr>\n",
              "    <tr>\n",
              "      <th>3</th>\n",
              "      <td>24497</td>\n",
              "      <td>21545</td>\n",
              "      <td>0</td>\n",
              "    </tr>\n",
              "    <tr>\n",
              "      <th>4</th>\n",
              "      <td>18151</td>\n",
              "      <td>1179</td>\n",
              "      <td>1</td>\n",
              "    </tr>\n",
              "  </tbody>\n",
              "</table>\n",
              "</div>\n",
              "      <button class=\"colab-df-convert\" onclick=\"convertToInteractive('df-36a545c1-2fba-44de-944e-a8a0bb2b17ec')\"\n",
              "              title=\"Convert this dataframe to an interactive table.\"\n",
              "              style=\"display:none;\">\n",
              "        \n",
              "  <svg xmlns=\"http://www.w3.org/2000/svg\" height=\"24px\"viewBox=\"0 0 24 24\"\n",
              "       width=\"24px\">\n",
              "    <path d=\"M0 0h24v24H0V0z\" fill=\"none\"/>\n",
              "    <path d=\"M18.56 5.44l.94 2.06.94-2.06 2.06-.94-2.06-.94-.94-2.06-.94 2.06-2.06.94zm-11 1L8.5 8.5l.94-2.06 2.06-.94-2.06-.94L8.5 2.5l-.94 2.06-2.06.94zm10 10l.94 2.06.94-2.06 2.06-.94-2.06-.94-.94-2.06-.94 2.06-2.06.94z\"/><path d=\"M17.41 7.96l-1.37-1.37c-.4-.4-.92-.59-1.43-.59-.52 0-1.04.2-1.43.59L10.3 9.45l-7.72 7.72c-.78.78-.78 2.05 0 2.83L4 21.41c.39.39.9.59 1.41.59.51 0 1.02-.2 1.41-.59l7.78-7.78 2.81-2.81c.8-.78.8-2.07 0-2.86zM5.41 20L4 18.59l7.72-7.72 1.47 1.35L5.41 20z\"/>\n",
              "  </svg>\n",
              "      </button>\n",
              "      \n",
              "  <style>\n",
              "    .colab-df-container {\n",
              "      display:flex;\n",
              "      flex-wrap:wrap;\n",
              "      gap: 12px;\n",
              "    }\n",
              "\n",
              "    .colab-df-convert {\n",
              "      background-color: #E8F0FE;\n",
              "      border: none;\n",
              "      border-radius: 50%;\n",
              "      cursor: pointer;\n",
              "      display: none;\n",
              "      fill: #1967D2;\n",
              "      height: 32px;\n",
              "      padding: 0 0 0 0;\n",
              "      width: 32px;\n",
              "    }\n",
              "\n",
              "    .colab-df-convert:hover {\n",
              "      background-color: #E2EBFA;\n",
              "      box-shadow: 0px 1px 2px rgba(60, 64, 67, 0.3), 0px 1px 3px 1px rgba(60, 64, 67, 0.15);\n",
              "      fill: #174EA6;\n",
              "    }\n",
              "\n",
              "    [theme=dark] .colab-df-convert {\n",
              "      background-color: #3B4455;\n",
              "      fill: #D2E3FC;\n",
              "    }\n",
              "\n",
              "    [theme=dark] .colab-df-convert:hover {\n",
              "      background-color: #434B5C;\n",
              "      box-shadow: 0px 1px 3px 1px rgba(0, 0, 0, 0.15);\n",
              "      filter: drop-shadow(0px 1px 2px rgba(0, 0, 0, 0.3));\n",
              "      fill: #FFFFFF;\n",
              "    }\n",
              "  </style>\n",
              "\n",
              "      <script>\n",
              "        const buttonEl =\n",
              "          document.querySelector('#df-36a545c1-2fba-44de-944e-a8a0bb2b17ec button.colab-df-convert');\n",
              "        buttonEl.style.display =\n",
              "          google.colab.kernel.accessAllowed ? 'block' : 'none';\n",
              "\n",
              "        async function convertToInteractive(key) {\n",
              "          const element = document.querySelector('#df-36a545c1-2fba-44de-944e-a8a0bb2b17ec');\n",
              "          const dataTable =\n",
              "            await google.colab.kernel.invokeFunction('convertToInteractive',\n",
              "                                                     [key], {});\n",
              "          if (!dataTable) return;\n",
              "\n",
              "          const docLinkHtml = 'Like what you see? Visit the ' +\n",
              "            '<a target=\"_blank\" href=https://colab.research.google.com/notebooks/data_table.ipynb>data table notebook</a>'\n",
              "            + ' to learn more about interactive tables.';\n",
              "          element.innerHTML = '';\n",
              "          dataTable['output_type'] = 'display_data';\n",
              "          await google.colab.output.renderOutput(dataTable, element);\n",
              "          const docLink = document.createElement('div');\n",
              "          docLink.innerHTML = docLinkHtml;\n",
              "          element.appendChild(docLink);\n",
              "        }\n",
              "      </script>\n",
              "    </div>\n",
              "  </div>\n",
              "  "
            ]
          },
          "metadata": {},
          "execution_count": 21
        }
      ],
      "source": [
        "labeled_train_data = labeled_train_data.sample(frac = 1).reset_index(drop=True)\n",
        "labeled_train_data.head(5)"
      ]
    },
    {
      "cell_type": "markdown",
      "metadata": {
        "id": "e8fUQJLXwqjm"
      },
      "source": [
        "### **B. Data Visualization**"
      ]
    },
    {
      "cell_type": "markdown",
      "metadata": {
        "id": "7p1x7MwMwviJ"
      },
      "source": [
        "#### **Visualizing Sub-Graph**"
      ]
    },
    {
      "cell_type": "code",
      "execution_count": 22,
      "metadata": {
        "id": "f1OExKEkHS3U",
        "colab": {
          "base_uri": "https://localhost:8080/",
          "height": 112
        },
        "outputId": "aed40924-a634-460c-aeb1-2bf6bb11e6c0"
      },
      "outputs": [
        {
          "output_type": "execute_result",
          "data": {
            "text/plain": [
              "   Source  Destination\n",
              "0   10481         5428\n",
              "1    7353        30328"
            ],
            "text/html": [
              "\n",
              "  <div id=\"df-4cea0ec3-7277-4041-b369-8b72b5f2a36d\">\n",
              "    <div class=\"colab-df-container\">\n",
              "      <div>\n",
              "<style scoped>\n",
              "    .dataframe tbody tr th:only-of-type {\n",
              "        vertical-align: middle;\n",
              "    }\n",
              "\n",
              "    .dataframe tbody tr th {\n",
              "        vertical-align: top;\n",
              "    }\n",
              "\n",
              "    .dataframe thead th {\n",
              "        text-align: right;\n",
              "    }\n",
              "</style>\n",
              "<table border=\"1\" class=\"dataframe\">\n",
              "  <thead>\n",
              "    <tr style=\"text-align: right;\">\n",
              "      <th></th>\n",
              "      <th>Source</th>\n",
              "      <th>Destination</th>\n",
              "    </tr>\n",
              "  </thead>\n",
              "  <tbody>\n",
              "    <tr>\n",
              "      <th>0</th>\n",
              "      <td>10481</td>\n",
              "      <td>5428</td>\n",
              "    </tr>\n",
              "    <tr>\n",
              "      <th>1</th>\n",
              "      <td>7353</td>\n",
              "      <td>30328</td>\n",
              "    </tr>\n",
              "  </tbody>\n",
              "</table>\n",
              "</div>\n",
              "      <button class=\"colab-df-convert\" onclick=\"convertToInteractive('df-4cea0ec3-7277-4041-b369-8b72b5f2a36d')\"\n",
              "              title=\"Convert this dataframe to an interactive table.\"\n",
              "              style=\"display:none;\">\n",
              "        \n",
              "  <svg xmlns=\"http://www.w3.org/2000/svg\" height=\"24px\"viewBox=\"0 0 24 24\"\n",
              "       width=\"24px\">\n",
              "    <path d=\"M0 0h24v24H0V0z\" fill=\"none\"/>\n",
              "    <path d=\"M18.56 5.44l.94 2.06.94-2.06 2.06-.94-2.06-.94-.94-2.06-.94 2.06-2.06.94zm-11 1L8.5 8.5l.94-2.06 2.06-.94-2.06-.94L8.5 2.5l-.94 2.06-2.06.94zm10 10l.94 2.06.94-2.06 2.06-.94-2.06-.94-.94-2.06-.94 2.06-2.06.94z\"/><path d=\"M17.41 7.96l-1.37-1.37c-.4-.4-.92-.59-1.43-.59-.52 0-1.04.2-1.43.59L10.3 9.45l-7.72 7.72c-.78.78-.78 2.05 0 2.83L4 21.41c.39.39.9.59 1.41.59.51 0 1.02-.2 1.41-.59l7.78-7.78 2.81-2.81c.8-.78.8-2.07 0-2.86zM5.41 20L4 18.59l7.72-7.72 1.47 1.35L5.41 20z\"/>\n",
              "  </svg>\n",
              "      </button>\n",
              "      \n",
              "  <style>\n",
              "    .colab-df-container {\n",
              "      display:flex;\n",
              "      flex-wrap:wrap;\n",
              "      gap: 12px;\n",
              "    }\n",
              "\n",
              "    .colab-df-convert {\n",
              "      background-color: #E8F0FE;\n",
              "      border: none;\n",
              "      border-radius: 50%;\n",
              "      cursor: pointer;\n",
              "      display: none;\n",
              "      fill: #1967D2;\n",
              "      height: 32px;\n",
              "      padding: 0 0 0 0;\n",
              "      width: 32px;\n",
              "    }\n",
              "\n",
              "    .colab-df-convert:hover {\n",
              "      background-color: #E2EBFA;\n",
              "      box-shadow: 0px 1px 2px rgba(60, 64, 67, 0.3), 0px 1px 3px 1px rgba(60, 64, 67, 0.15);\n",
              "      fill: #174EA6;\n",
              "    }\n",
              "\n",
              "    [theme=dark] .colab-df-convert {\n",
              "      background-color: #3B4455;\n",
              "      fill: #D2E3FC;\n",
              "    }\n",
              "\n",
              "    [theme=dark] .colab-df-convert:hover {\n",
              "      background-color: #434B5C;\n",
              "      box-shadow: 0px 1px 3px 1px rgba(0, 0, 0, 0.15);\n",
              "      filter: drop-shadow(0px 1px 2px rgba(0, 0, 0, 0.3));\n",
              "      fill: #FFFFFF;\n",
              "    }\n",
              "  </style>\n",
              "\n",
              "      <script>\n",
              "        const buttonEl =\n",
              "          document.querySelector('#df-4cea0ec3-7277-4041-b369-8b72b5f2a36d button.colab-df-convert');\n",
              "        buttonEl.style.display =\n",
              "          google.colab.kernel.accessAllowed ? 'block' : 'none';\n",
              "\n",
              "        async function convertToInteractive(key) {\n",
              "          const element = document.querySelector('#df-4cea0ec3-7277-4041-b369-8b72b5f2a36d');\n",
              "          const dataTable =\n",
              "            await google.colab.kernel.invokeFunction('convertToInteractive',\n",
              "                                                     [key], {});\n",
              "          if (!dataTable) return;\n",
              "\n",
              "          const docLinkHtml = 'Like what you see? Visit the ' +\n",
              "            '<a target=\"_blank\" href=https://colab.research.google.com/notebooks/data_table.ipynb>data table notebook</a>'\n",
              "            + ' to learn more about interactive tables.';\n",
              "          element.innerHTML = '';\n",
              "          dataTable['output_type'] = 'display_data';\n",
              "          await google.colab.output.renderOutput(dataTable, element);\n",
              "          const docLink = document.createElement('div');\n",
              "          docLink.innerHTML = docLinkHtml;\n",
              "          element.appendChild(docLink);\n",
              "        }\n",
              "      </script>\n",
              "    </div>\n",
              "  </div>\n",
              "  "
            ]
          },
          "metadata": {},
          "execution_count": 22
        }
      ],
      "source": [
        "dataFrame.head(2)"
      ]
    },
    {
      "cell_type": "code",
      "execution_count": 23,
      "metadata": {
        "id": "-C6H8gU0w3Ae",
        "colab": {
          "base_uri": "https://localhost:8080/",
          "height": 481
        },
        "outputId": "0492fc72-326b-42bb-c702-7a8eca5a48e4"
      },
      "outputs": [
        {
          "output_type": "display_data",
          "data": {
            "text/plain": [
              "<Figure size 576x576 with 1 Axes>"
            ],
            "image/png": "[encoded data removed]"
          },
          "metadata": {}
        }
      ],
      "source": [
        "#Subgraph is a subset of vertices and the edges that are between those vertices.\n",
        "\n",
        "#Creating Subgraph\n",
        "dataFrameSubgraph = dataFrame.head(50)\n",
        "\n",
        "#Renaming columns\n",
        "dataFrameSubgraph = dataFrameSubgraph.rename(columns={\"Source\": \"source\", \"Destination\": \"target\"})\n",
        "\n",
        "#Converting edge list to graph\n",
        "subgraph = nx.from_pandas_edgelist(dataFrameSubgraph, create_using = nx.DiGraph())\n",
        "\n",
        "#Drawing Graph\n",
        "pos = nx.spring_layout(subgraph)  \n",
        "plt.figure(figsize = (8,8))\n",
        "plt.title('Subgraph Visualization', size = 15, color = 'blue', pad = 3)\n",
        "nx.draw(subgraph, pos, node_color='#A0CBE2', node_size = 500, edge_color='#00bb5e', width = 2, edge_cmap = plt.cm.Blues, arrows = True, with_labels = True)\n",
        "plt.savefig('/content/drive/MyDrive/NS Project Dataset/Subgraph Visualization')\n",
        "plt.show()\n",
        "#print(\"Subgraph Details : \\n\", nx.info(subgraph).split('Name:')[1])"
      ]
    },
    {
      "cell_type": "markdown",
      "metadata": {
        "id": "_-CWdPcNf2NF"
      },
      "source": [
        "### **C. Exploratory Data Analysis**"
      ]
    },
    {
      "cell_type": "markdown",
      "metadata": {
        "id": "MjOoNd_wxosA"
      },
      "source": [
        "#### **No. of Followers For Each Person**"
      ]
    },
    {
      "cell_type": "code",
      "execution_count": 24,
      "metadata": {
        "id": "9i-vBbDbxtUu",
        "colab": {
          "base_uri": "https://localhost:8080/",
          "height": 361
        },
        "outputId": "d1259b23-9880-46c4-8948-1fbb2acd72dd"
      },
      "outputs": [
        {
          "output_type": "display_data",
          "data": {
            "text/plain": [
              "<Figure size 504x360 with 1 Axes>"
            ],
            "image/png": "[encoded data removed]"
          },
          "metadata": {
            "needs_background": "light"
          }
        }
      ],
      "source": [
        "#Followers of a person is all the incoming edges to that person\n",
        "#Thus we can No. of followers means indegree\n",
        "#So, indegree means number of peolpe that follows a user\n",
        "indegreeList = list(dict(original_graph.in_degree()).values())\n",
        "indegreeList.sort()\n",
        "plt.figure(figsize=(7,5))\n",
        "plt.title('No. of Followers For Each Person', size = 15, color = 'blue', pad = 15)\n",
        "plt.plot(indegreeList)\n",
        "plt.xlabel('Users')\n",
        "plt.ylabel('Number of Followers')\n",
        "plt.savefig('/content/drive/MyDrive/NS Project Dataset/No. of Followers For Each Person.png')\n",
        "plt.show()\n",
        " \n",
        "#We observe that most of the users have less number of followers.\n",
        "#But there are some users with extremely high number of followers."
      ]
    },
    {
      "cell_type": "markdown",
      "metadata": {
        "id": "Lk2uxWUVSvWo"
      },
      "source": [
        "#### **Percentile of Users & Their Followers**"
      ]
    },
    {
      "cell_type": "code",
      "execution_count": 25,
      "metadata": {
        "id": "xnxLMfiKSxX7",
        "colab": {
          "base_uri": "https://localhost:8080/"
        },
        "outputId": "ca0655b7-76bd-4078-e567-e44a8e5e1181"
      },
      "outputs": [
        {
          "output_type": "stream",
          "name": "stdout",
          "text": [
            "+---------------------------------------+\n",
            "| Percentile of Users & Their Followers |\n",
            "+-------------------------+-------------+\n",
            "|   Percentile of Users   |  Followers  |\n",
            "+-------------------------+-------------+\n",
            "|            90           |     23.0    |\n",
            "|            91           |     24.0    |\n",
            "|            92           |     25.0    |\n",
            "|            93           |     26.0    |\n",
            "|            94           |     28.0    |\n",
            "|            95           |     30.0    |\n",
            "|            96           |     33.0    |\n",
            "|            97           |     37.0    |\n",
            "|            98           |     45.0    |\n",
            "|            99           |     60.0    |\n",
            "|           100           |    248.0    |\n",
            "+-------------------------+-------------+\n"
          ]
        }
      ],
      "source": [
        "#Only plotted for 90 - 100 percentile\n",
        "valueList = []\n",
        "followersList = []\n",
        "for value in range(0, 11):\n",
        "  valLine = 90 + value\n",
        "  valueList.append(valLine)\n",
        "  followers = np.percentile(indegreeList, 90 + value)\n",
        "  followersList.append(followers)\n",
        "\n",
        "followersTable = PrettyTable()\n",
        "followersTable.title = 'Percentile of Users & Their Followers'\n",
        "followersTable.field_names = ['Percentile of Users', 'Followers']\n",
        "\n",
        "for value, followers in zip(valueList, followersList):\n",
        "  followersTable.add_row([value, followers])\n",
        "print(followersTable)"
      ]
    },
    {
      "cell_type": "markdown",
      "metadata": {
        "id": "m5LCywHtLrhu"
      },
      "source": [
        "#### **No. of People Each Person Is Following**"
      ]
    },
    {
      "cell_type": "code",
      "execution_count": 26,
      "metadata": {
        "id": "yRbxLedML0vh",
        "colab": {
          "base_uri": "https://localhost:8080/",
          "height": 361
        },
        "outputId": "eed4742c-c78f-43a7-a437-c1e196b441f6"
      },
      "outputs": [
        {
          "output_type": "display_data",
          "data": {
            "text/plain": [
              "<Figure size 504x360 with 1 Axes>"
            ],
            "image/png": "[encoded data removed]"
          },
          "metadata": {
            "needs_background": "light"
          }
        }
      ],
      "source": [
        "#The number of people a persom follows is all the outgoint edges from that person\n",
        "#Thus we can No. of people each person is following  means Outdegree\n",
        "#So, outdegree means number of users a person is following\n",
        "outdegreeList = list(dict(original_graph.out_degree()).values())\n",
        "outdegreeList.sort()\n",
        "plt.figure(figsize=(7,5))\n",
        "plt.title('No. of People Each Person Is Following', size = 15, color = 'blue', pad = 15)\n",
        "plt.plot(outdegreeList)\n",
        "plt.xlabel('Users')\n",
        "plt.ylabel('No. of People Each Person Is Following')\n",
        "plt.savefig('/content/drive/MyDrive/NS Project Dataset/No. of People Each Person Is Following.png')\n",
        "plt.show()\n",
        " \n",
        "#We observe that most of the users follow less number of people.\n",
        "#But there are some users who follows extremely high number of people."
      ]
    },
    {
      "cell_type": "markdown",
      "metadata": {
        "id": "yep5kQXFS-MH"
      },
      "source": [
        "#### **Percentile of Users & Their Following**"
      ]
    },
    {
      "cell_type": "code",
      "execution_count": 27,
      "metadata": {
        "id": "KR_t2LmWS_zl",
        "colab": {
          "base_uri": "https://localhost:8080/"
        },
        "outputId": "3fd7213f-d30f-4231-d45a-e14b4c62bb7f"
      },
      "outputs": [
        {
          "output_type": "stream",
          "name": "stdout",
          "text": [
            "+----------------------------------------+\n",
            "| Percentile of Users & Their Followings |\n",
            "+-------------------------+--------------+\n",
            "|   Percentile of Users   |  Followings  |\n",
            "+-------------------------+--------------+\n",
            "|            90           |     17.0     |\n",
            "|            91           |     19.0     |\n",
            "|            92           |     22.0     |\n",
            "|            93           |     25.0     |\n",
            "|            94           |     30.0     |\n",
            "|            95           |     36.0     |\n",
            "|            96           |     45.0     |\n",
            "|            97           |     60.0     |\n",
            "|            98           |     88.0     |\n",
            "|            99           |    152.0     |\n",
            "|           100           |   10226.0    |\n",
            "+-------------------------+--------------+\n"
          ]
        }
      ],
      "source": [
        "#Only plotted for 90 - 100 percentile\n",
        "valueList = []\n",
        "followingList = []\n",
        "for value in range(0, 11):\n",
        "  valLine = 90 + value\n",
        "  valueList.append(valLine)\n",
        "  following = np.percentile(outdegreeList, (90 + value))\n",
        "  followingList.append(following)\n",
        "\n",
        "followingTable = PrettyTable()\n",
        "followingTable.title = 'Percentile of Users & Their Followings'\n",
        "followingTable.field_names = ['Percentile of Users', 'Followings']\n",
        "\n",
        "for value, following in zip(valueList, followingList):\n",
        "  followingTable.add_row([value, following])\n",
        "print(followingTable)"
      ]
    },
    {
      "cell_type": "markdown",
      "metadata": {
        "id": "RIw1Y8RNTGV_"
      },
      "source": [
        "#### **More Data Analysis**"
      ]
    },
    {
      "cell_type": "markdown",
      "metadata": {
        "id": "rnrWi5aJTIW8"
      },
      "source": [
        "#####1. Number of Unique Persons\n"
      ]
    },
    {
      "cell_type": "code",
      "execution_count": 28,
      "metadata": {
        "id": "8qiQe_nGfsfw",
        "colab": {
          "base_uri": "https://localhost:8080/"
        },
        "outputId": "ec491213-d85e-499b-ffb3-d0cf3dbd2702"
      },
      "outputs": [
        {
          "output_type": "stream",
          "name": "stdout",
          "text": [
            "The Number of Unique Persons :  33226\n"
          ]
        }
      ],
      "source": [
        "print(\"The Number of Unique Persons : \",len(original_graph.nodes()))"
      ]
    },
    {
      "cell_type": "markdown",
      "metadata": {
        "id": "ThQHUNRavYvm"
      },
      "source": [
        "##### 2. Number of People Having Zero Followers"
      ]
    },
    {
      "cell_type": "code",
      "execution_count": 29,
      "metadata": {
        "id": "pgpbqV2dvXbW",
        "colab": {
          "base_uri": "https://localhost:8080/"
        },
        "outputId": "b87bba51-dddb-487b-85ee-c1ec6fb683e3"
      },
      "outputs": [
        {
          "output_type": "stream",
          "name": "stdout",
          "text": [
            "No. of People Having Zero Followers Are :  0 ( 0.0 %)\n"
          ]
        }
      ],
      "source": [
        "zeroFollowers = 0\n",
        "for value in indegreeList:\n",
        "  if value == 0:\n",
        "    zeroFollowers += 1\n",
        "\n",
        "zeroFollowersPercentage = (zeroFollowers/len(indegreeList) * 100)\n",
        "print(\"No. of People Having Zero Followers Are : \", zeroFollowers, '(', round(zeroFollowersPercentage, 2), '%)')"
      ]
    },
    {
      "cell_type": "markdown",
      "metadata": {
        "id": "GClgjwu8vewA"
      },
      "source": [
        "##### 3. Number of People Having Zero Followings"
      ]
    },
    {
      "cell_type": "code",
      "execution_count": 30,
      "metadata": {
        "id": "1VzLif5jTS4e",
        "colab": {
          "base_uri": "https://localhost:8080/"
        },
        "outputId": "17eaed30-99df-4d25-cace-b9713314d8b8"
      },
      "outputs": [
        {
          "output_type": "stream",
          "name": "stdout",
          "text": [
            "No. of People Having Zero Followings Are :  98 ( 0.29 %)\n"
          ]
        }
      ],
      "source": [
        "zeroFollowings = 0\n",
        "for value in outdegreeList:\n",
        "  if value == 0:\n",
        "    zeroFollowings += 1\n",
        "\n",
        "zeroFollowingsPercentage = (zeroFollowings/len(outdegreeList) * 100)\n",
        "print(\"No. of People Having Zero Followings Are : \", zeroFollowings, '(', round(zeroFollowingsPercentage, 2), '%)')"
      ]
    },
    {
      "cell_type": "markdown",
      "metadata": {
        "id": "HC42A2q2v9w1"
      },
      "source": [
        "##### 4. Number of People Having Both Zero Followers And Zero Followings"
      ]
    },
    {
      "cell_type": "code",
      "execution_count": 31,
      "metadata": {
        "id": "xGz--SdRv-K_",
        "colab": {
          "base_uri": "https://localhost:8080/"
        },
        "outputId": "6bd92610-cf59-48dd-cf03-94dfc855d796"
      },
      "outputs": [
        {
          "output_type": "stream",
          "name": "stdout",
          "text": [
            "Number of Peope Having Both Zero Followers And Zero Followings :  0\n"
          ]
        }
      ],
      "source": [
        "indegreeDict = dict(original_graph.in_degree())\n",
        "outdegreeDict = dict(original_graph.out_degree())\n",
        "\n",
        "bothZero = 0\n",
        "for degree in indegreeDict:\n",
        "  if indegreeDict[degree] == 0:\n",
        "    if outdegreeDict[degree] == 0:\n",
        "      bothZero += 1\n",
        "\n",
        "print(\"Number of Peope Having Both Zero Followers And Zero Followings : \", bothZero)"
      ]
    },
    {
      "cell_type": "markdown",
      "metadata": {
        "id": "XVrLIdy7hkNF"
      },
      "source": [
        "#### **Indegree Distribution Curve**"
      ]
    },
    {
      "cell_type": "code",
      "execution_count": 35,
      "metadata": {
        "id": "NQOGNudzfs6F",
        "colab": {
          "base_uri": "https://localhost:8080/",
          "height": 363
        },
        "outputId": "330a0c38-22b5-4ba8-a241-54bfa2f53641"
      },
      "outputs": [
        {
          "output_type": "display_data",
          "data": {
            "text/plain": [
              "<Figure size 1152x360 with 2 Axes>"
            ],
            "image/png": "[encoded data removed]"
          },
          "metadata": {
            "needs_background": "light"
          }
        }
      ],
      "source": [
        "def indegreeDistribution(Graph):\n",
        "    degreeSequence = sorted([d for n, d in Graph.in_degree()], reverse = True)\n",
        "    degreeCount = collections.Counter(degreeSequence)\n",
        "    return degreeCount\n",
        "\n",
        "indegreeDistributionDict = indegreeDistribution(original_graph)\n",
        "\n",
        "xIndegreeList = []\n",
        "yIndegreeList = []\n",
        "\n",
        "for indegree in sorted(indegreeDistributionDict):\n",
        "    xIndegreeList.append(indegree)\n",
        "    yIndegreeList.append(indegreeDistributionDict[indegree])\n",
        "\n",
        "#Graph\n",
        "fig = plt.figure(figsize = (16,5))\n",
        "fig.add_subplot(1,2,1)\n",
        "plt.title(\"In-Degree Distribution of Network (Linear Scale)\", size = 15, color = 'blue', pad = 10)\n",
        "plt.plot(xIndegreeList, yIndegreeList)\n",
        "plt.xlabel(\"Total Indegree of Node (k) \", fontsize = 12)\n",
        "plt.ylabel(\"Number of Nodes With Indegree k\", fontsize = 12)\n",
        "plt.savefig(\"/content/drive/MyDrive/NS Project Dataset/In-Degree Distribution of Network (Linear Scale)\")\n",
        "\n",
        "fig.add_subplot(1,2,2)\n",
        "plt.xscale('log')  \n",
        "plt.yscale('log') \n",
        "plt.title(\"In-Degree Distribution of Network (Log Scale)\", size = 15, color = 'blue', pad = 10)\n",
        "plt.plot(xIndegreeList, yIndegreeList)\n",
        "plt.xlabel(\"Total Indegree of Node (k) \", fontsize = 12)\n",
        "plt.ylabel(\"Number of Nodes With Indegree k\", fontsize = 12)\n",
        "plt.savefig(\"/content/drive/MyDrive/NS Project Dataset/In-Degree Distribution of Network (Log Scale)\")\n",
        "\n",
        "plt.show()"
      ]
    },
    {
      "cell_type": "markdown",
      "metadata": {
        "id": "34L205SQjd0Z"
      },
      "source": [
        "#### **Outdegree Distribution Curve**"
      ]
    },
    {
      "cell_type": "code",
      "execution_count": 36,
      "metadata": {
        "id": "7qwo42GPja15",
        "colab": {
          "base_uri": "https://localhost:8080/",
          "height": 363
        },
        "outputId": "6d4ce791-7360-4812-b1e9-aad4ea3f8c8d"
      },
      "outputs": [
        {
          "output_type": "display_data",
          "data": {
            "text/plain": [
              "<Figure size 1152x360 with 2 Axes>"
            ],
            "image/png": "[encoded data removed]"
          },
          "metadata": {
            "needs_background": "light"
          }
        }
      ],
      "source": [
        "def outdegreeDistribution(Graph):\n",
        "    degreeSequence = sorted([d for n, d in Graph.out_degree()], reverse = True)\n",
        "    degreeCount = collections.Counter(degreeSequence)\n",
        "    return degreeCount\n",
        "\n",
        "outdegreeDistributionDict = outdegreeDistribution(original_graph)\n",
        "\n",
        "xOutdegreeList = []\n",
        "yOutdegreeList = []\n",
        "\n",
        "for outdegree in sorted(outdegreeDistributionDict):\n",
        "    xOutdegreeList.append(outdegree)\n",
        "    yOutdegreeList.append(outdegreeDistributionDict[outdegree])\n",
        "\n",
        "#Graph\n",
        "fig = plt.figure(figsize = (16,5))\n",
        "fig.add_subplot(1,2,1)\n",
        "plt.title(\"Out-Degree Distribution of Network (Linear Scale)\", size = 15, color = 'blue', pad = 10)\n",
        "plt.plot(xOutdegreeList, yOutdegreeList)\n",
        "plt.xlabel(\"Total Outdegree of Node (k) \", fontsize = 12)\n",
        "plt.ylabel(\"Number of Nodes With Outdegree k\", fontsize = 12)\n",
        "plt.savefig(\"/content/drive/MyDrive/NS Project Dataset/Out-Degree Distribution of Network (Linear Scale)\")\n",
        "\n",
        "fig.add_subplot(1,2,2)\n",
        "plt.xscale('log')  \n",
        "plt.yscale('log') \n",
        "plt.title(\"Out-Degree Distribution of Network (Log Scale)\", size = 15, color = 'blue', pad = 10)\n",
        "plt.plot(xOutdegreeList, yOutdegreeList)\n",
        "plt.xlabel(\"Total Outdegree of Node (k) \", fontsize = 12)\n",
        "plt.ylabel(\"Number of Nodes With Outdegree k\", fontsize = 12)\n",
        "plt.savefig(\"/content/drive/MyDrive/NS Project Dataset/Out-Degree Distribution of Network (Log Scale)\")\n",
        "\n",
        "plt.show()"
      ]
    },
    {
      "cell_type": "markdown",
      "metadata": {
        "id": "xtFJIJsY_95z"
      },
      "source": [
        "### **D. Data Preparation**"
      ]
    },
    {
      "cell_type": "markdown",
      "metadata": {
        "id": "2VqGNa7WuRG8"
      },
      "source": [
        "#### **Splitting Both Positive & Negative Datasets Into Train & Test**"
      ]
    },
    {
      "cell_type": "code",
      "execution_count": 37,
      "metadata": {
        "id": "UE7Ah4WkuYgC"
      },
      "outputs": [],
      "source": [
        "dataFramePositive = train_data.copy()  #Consists of edges with class 1\n",
        "dataFrameNegative = negative_edges.copy()  #Consists of edges with class 0\n",
        "\n",
        "#Separating Class\n",
        "YPositive = dataFramePositive['Class']\n",
        "XPositive = dataFramePositive.drop(['Class'], axis = 1)\n",
        "\n",
        "YNegative = dataFrameNegative['Class']\n",
        "XNegative = dataFrameNegative.drop(['Class'], axis = 1)"
      ]
    },
    {
      "cell_type": "markdown",
      "metadata": {
        "id": "6-c0-CR21a_H"
      },
      "source": [
        "#### **Creating Training & Test Graphs**"
      ]
    },
    {
      "cell_type": "code",
      "execution_count": 38,
      "metadata": {
        "id": "qEvHDUYUfeGX",
        "colab": {
          "base_uri": "https://localhost:8080/"
        },
        "outputId": "8dac0e1d-3160-48f8-d300-2f726a28652f"
      },
      "outputs": [
        {
          "output_type": "stream",
          "name": "stdout",
          "text": [
            "Number of Nodes In Positive Training Graph :  33162\n",
            "Number of Edges In Positive Training Graph :  283623\n"
          ]
        }
      ],
      "source": [
        "#We will create graphs for Positive labelled data only\n",
        "def createGraph(dataFrame):\n",
        "\n",
        "  if (len(dataFrame.columns) == 2):\n",
        "    dataFrame = dataFrame.rename(columns={dataFrame.columns[0]: \"source\", dataFrame.columns[1] : \"target\"})\n",
        "  else:\n",
        "    print(\"Invalid Number of Columns.\")\n",
        "    return\n",
        "\n",
        "  graph = nx.from_pandas_edgelist(dataFrame, create_using = nx.DiGraph())\n",
        "  return graph\n",
        "\n",
        "XPositiveGraph = createGraph(XPositive)\n",
        "print(\"Number of Nodes In Positive Training Graph : \", len(XPositiveGraph.nodes))\n",
        "print(\"Number of Edges In Positive Training Graph : \", len(XPositiveGraph.edges))\n"
      ]
    },
    {
      "cell_type": "markdown",
      "metadata": {
        "id": "tnl37zavu6Du"
      },
      "source": [
        "### **E. Feature Extraction**"
      ]
    },
    {
      "cell_type": "markdown",
      "metadata": {
        "id": "i5stxqr1A8pb"
      },
      "source": [
        "#### **Jaccard Similarity**"
      ]
    },
    {
      "cell_type": "code",
      "execution_count": 39,
      "metadata": {
        "id": "CURRxxU7wpmE"
      },
      "outputs": [],
      "source": [
        "#Jaccard Similarity For Followers\n",
        "def jaccard_1(node_u, node_v,g_var):\n",
        "  try:\n",
        "    temp=set(g_var.predecessors(node_u))\n",
        "    temp_1=set(g_var.predecessors(node_v))\n",
        "    if (len(temp)==0 or len(temp_1)==0):\n",
        "      return 0\n",
        "    else: \n",
        "      inter_var=len(temp.intersection(temp_1))\n",
        "      uni_var=len(temp.union(temp_1))\n",
        "      res=inter_var/uni_var\n",
        "      return res\n",
        "  except:\n",
        "    return 0\n",
        "\n",
        "#Jaccard Similarity For Followees\n",
        "def jaccard_2(node_u, node_v,g_var):\n",
        "  try:\n",
        "    temp=set(g_var.successors(node_u))\n",
        "    temp_1=set(g_var.successors(node_v))\n",
        "    if (len(temp)==0 or len(temp_1)==0):\n",
        "      return 0\n",
        "    else:\n",
        "      inter_var=len(temp.intersection(temp_1))\n",
        "      uni_var=len(temp.union(temp_1))\n",
        "      res=inter_var/uni_var\n",
        "      return res\n",
        "  except:\n",
        "    return 0"
      ]
    },
    {
      "cell_type": "markdown",
      "metadata": {
        "id": "9QsfnR4Qwvxc"
      },
      "source": [
        "#### **Cosine Distance**"
      ]
    },
    {
      "cell_type": "code",
      "execution_count": 40,
      "metadata": {
        "id": "GHeOh5JNxZ6A"
      },
      "outputs": [],
      "source": [
        "#Cosine Distance For Followers\n",
        "def cosine_1(node_u, node_v,g_var):\n",
        "  try:\n",
        "    temp=set(g_var.predecessors(node_u))\n",
        "    temp_1=set(g_var.predecessors(node_v))\n",
        "    if (len(temp)==0 or len(temp_1)==0):\n",
        "      return 0\n",
        "    else:\n",
        "      inter_var=len(temp.intersection(temp_1))\n",
        "      uni_var=math.sqrt(len(temp)*len(temp_1))\n",
        "      res=inter_var/uni_var\n",
        "      return res\n",
        "  except:\n",
        "    return 0\n",
        "\n",
        "#Cosine Distance For Followees\n",
        "def cosine_2(node_u, node_v,g_var):\n",
        "  try:\n",
        "    temp=set(g_var.successors(node_u))\n",
        "    temp_1=set(g_var.successors(node_v))\n",
        "    if (len(temp)==0 or len(temp_1)==0):\n",
        "      return 0\n",
        "    else:\n",
        "      inter_var=len(temp.intersection(temp_1))\n",
        "      uni_var=math.sqrt(len(temp)*len(temp_1))\n",
        "      res=inter_var/uni_var\n",
        "      return res\n",
        "  except:\n",
        "    return 0"
      ]
    },
    {
      "cell_type": "markdown",
      "metadata": {
        "id": "r1ZAA7fuzi39"
      },
      "source": [
        "#### **PageRank**"
      ]
    },
    {
      "cell_type": "code",
      "execution_count": 41,
      "metadata": {
        "id": "lke_A1e90NOk"
      },
      "outputs": [],
      "source": [
        "pr = nx.pagerank(XPositiveGraph, alpha = 0.85)\n",
        "\n",
        "total = float(sum(pr.values()))\n",
        "meanPageRankValue = total/len(pr) #For those nodes that are not in training data"
      ]
    },
    {
      "cell_type": "markdown",
      "metadata": {
        "id": "_GOdIe-zBOGo"
      },
      "source": [
        "#### **Shortest Path**"
      ]
    },
    {
      "cell_type": "code",
      "execution_count": 42,
      "metadata": {
        "id": "_4gOH6j2BNdP"
      },
      "outputs": [],
      "source": [
        "def spl_fun(node_u, node_v,g_var):\n",
        "  try:\n",
        "    #If there is direct edge remove it and then find shortest path\n",
        "    if g_var.has_listedge(node_u, node_v):\n",
        "      g_var.remove_edge(node_u, node_v)\n",
        "      p = nx.shortest_path_length(g_var, source = node_u, target = node_v)\n",
        "      #Add that edge back\n",
        "      g_var.add_edge(node_u, node_v)\n",
        "\n",
        "    else:\n",
        "      p = nx.shortest_path_length(g_var, source = node_u, target = node_v)\n",
        "    return p   \n",
        "  except:\n",
        "      return -1"
      ]
    },
    {
      "cell_type": "markdown",
      "metadata": {
        "id": "ToT_Ai11Gay2"
      },
      "source": [
        "#### **Adar Index**"
      ]
    },
    {
      "cell_type": "code",
      "execution_count": 43,
      "metadata": {
        "id": "HX0sRcMYGeps"
      },
      "outputs": [],
      "source": [
        "def adar_index(node_u, node_v,g_var):\n",
        "  sum=0\n",
        "  try:\n",
        "    temp=set(g_var.successors(node_u))\n",
        "    temp_1=set(g_var.successors(node_v))\n",
        "\n",
        "    inter_var = list(temp.intersection(temp_1))\n",
        "    if len(inter_var)!=0:\n",
        "      for i in range(len(inter_var)):\n",
        "        sum+= (1/np.log10(len(list(g_var.predecessors(inter_var[i])))))\n",
        "\n",
        "    return sum\n",
        "  except:\n",
        "    return 0"
      ]
    },
    {
      "cell_type": "markdown",
      "metadata": {
        "id": "Q6uu7R11LgQy"
      },
      "source": [
        "#### **Is Person Follows Back**"
      ]
    },
    {
      "cell_type": "code",
      "execution_count": 44,
      "metadata": {
        "id": "uRIBCusXLjb8"
      },
      "outputs": [],
      "source": [
        "#It returns 1 if there is an edge from destination to source else 0.\n",
        "def followsBack(node_u, node_v,g_var):\n",
        "  \n",
        "  if g_var.has_edge(node_v, node_u):\n",
        "    return 1\n",
        "  else:\n",
        "    return 0"
      ]
    },
    {
      "cell_type": "markdown",
      "metadata": {
        "id": "4pAUG4-vKmaH"
      },
      "source": [
        "#### **Katz Centrality**"
      ]
    },
    {
      "cell_type": "code",
      "execution_count": 45,
      "metadata": {
        "id": "MYx1TLSQMUTs"
      },
      "outputs": [],
      "source": [
        "katz = nx.katz.katz_centrality(XPositiveGraph, alpha = 0.005, beta = 1)\n",
        "\n",
        "katzTotal = float(sum(katz.values()))\n",
        "meanKatzCentralityValue = katzTotal/len(katz) #For those nodes that are not in training data"
      ]
    },
    {
      "cell_type": "markdown",
      "metadata": {
        "id": "B6WJZLTcNgmF"
      },
      "source": [
        "#### **HITS (Hyperlink-Induced Topic Search Score)**"
      ]
    },
    {
      "cell_type": "code",
      "execution_count": 46,
      "metadata": {
        "id": "9CKXNbdON6M6"
      },
      "outputs": [],
      "source": [
        "hits = nx.hits(XPositiveGraph, max_iter = 500, tol = 1e-08, nstart = None, normalized = True)\n",
        "\n",
        "hitsTotal = float(sum(hits[0].values()))\n",
        "meanHitsScore = hitsTotal/len(hits[0]) #For those nodes that are not in training data"
      ]
    },
    {
      "cell_type": "markdown",
      "metadata": {
        "id": "ErWwIMIKKC6-"
      },
      "source": [
        "#### **Preferential Attachment**"
      ]
    },
    {
      "cell_type": "code",
      "execution_count": 47,
      "metadata": {
        "id": "wSvjtenBNg4P"
      },
      "outputs": [],
      "source": [
        "#Preferential Attachment for Followers\n",
        "def pref_attachment_1(node_u, node_v,g_var):\n",
        "  try:\n",
        "    temp=set(g_var.predecessors(node_u))\n",
        "    temp_1=set(g_var.predecessors(node_v))\n",
        "\n",
        "    res=len(temp) * len(temp_1)\n",
        "    return res\n",
        "  except:\n",
        "    return 0\n",
        "\n",
        "#Preferential Attachment for Followees\n",
        "def pref_attachment_2(node_u, node_v,g_var):\n",
        "  try:\n",
        "    temp=set(g_var.successors(node_u))\n",
        "    temp_1=set(g_var.successors(node_v))\n",
        "\n",
        "    res=len(temp) * len(temp_1)\n",
        "    return res\n",
        "  except:\n",
        "    return 0"
      ]
    },
    {
      "cell_type": "markdown",
      "metadata": {
        "id": "VAcTZCdDK-Tw"
      },
      "source": [
        "#### **Common Followers & Followees**"
      ]
    },
    {
      "cell_type": "code",
      "execution_count": 48,
      "metadata": {
        "id": "IyCQIoGyLIUM"
      },
      "outputs": [],
      "source": [
        "#Common Followers\n",
        "def common_followers(node_u, node_v,g_var):\n",
        "  try:\n",
        "    temp = set(g_var.predecessors(node_u))\n",
        "    temp_1 = set(g_var.predecessors(node_v))\n",
        "  except:\n",
        "    temp = set()\n",
        "    temp_1 = set()\n",
        "\n",
        "  res=len(temp.intersection(temp_1))\n",
        "  return res\n",
        "\n",
        "#Common Followees\n",
        "def common_followees(node_u, node_v,g_var):\n",
        "  try:\n",
        "    temp = set(g_var.successors(node_u))\n",
        "    temp_1 = set(g_var.successors(node_v))\n",
        "  except:\n",
        "    temp = set()\n",
        "    temp_1 = set()\n",
        "    \n",
        "  res=len(temp.intersection(temp_1))\n",
        "  return res"
      ]
    },
    {
      "cell_type": "markdown",
      "metadata": {
        "id": "JEhBdEMQpzCl"
      },
      "source": [
        "#### **Low Rank Approximation Using SVD**"
      ]
    },
    {
      "cell_type": "code",
      "execution_count": 49,
      "metadata": {
        "id": "ZZsHfksf5Dyo"
      },
      "outputs": [],
      "source": [
        "def svd(y, S, adjacencyDict):\n",
        "  try:\n",
        "    z = adjacencyDict[y]\n",
        "    return S[z]\n",
        "  except:\n",
        "    return [0] * 6\n",
        "\n",
        "def lowRankApproximation(df):\n",
        "\n",
        "  #Creating Adjacency Matrix from Graph\n",
        "  nodeList = sorted(XPositiveGraph.nodes())\n",
        "  adjacencyMatrix = nx.adjacency_matrix(XPositiveGraph, nodelist = nodeList).asfptype()\n",
        "  \n",
        "  adjacencyDict = { value : index for index , value in enumerate(nodeList)}\n",
        "\n",
        "  U, s, V = svds(adjacencyMatrix, k = 6)\n",
        "\n",
        "  #6 Dimensional Feature Vector of Source Node Using U \n",
        "  df[['svdUFrom_1', 'svdUFrom_2', 'svdUFrom_3', 'svdUFrom_4', 'svdUFrom_5', 'svdUFrom_6']] = df.Source.apply(lambda y : svd(y, U, adjacencyDict)).apply(pd.Series)\n",
        "\n",
        "  #6 Dimensional Feature Vector of Destination Node Using U\n",
        "  df[['svdUTo_1', 'svdUTo_2', 'svdUTo_3', 'svdUTo_4', 'svdUTo_5', 'svdUTo_6']] = df.Destination.apply(lambda y : svd(y, U, adjacencyDict)).apply(pd.Series)\n",
        "\n",
        "  #6 Dimensional Feature Vector of Source Node Using V\n",
        "  df[['svdVFrom_1', 'svdVFrom_2', 'svdVFrom_3', 'svdVFrom_4', 'svdVFrom_5', 'svdVFrom_6']] = df.Source.apply(lambda y : svd(y, V.T, adjacencyDict)).apply(pd.Series)\n",
        "\n",
        "  #6 Dimensional Feature Vector of Destination Node Using V\n",
        "  df[['svdVTo_1', 'svdVTo_2', 'svdVTo_3', 'svdVTo_4', 'svdVTo_5', 'svdVTo_6']] = df.Destination.apply(lambda y : svd(y, V.T, adjacencyDict)).apply(pd.Series)\n",
        "\n",
        "  return df"
      ]
    },
    {
      "cell_type": "markdown",
      "metadata": {
        "id": "YRu4iqFKNc9q"
      },
      "source": [
        "### **Combining DataFrames From positive and negative samples**\n"
      ]
    },
    {
      "cell_type": "code",
      "execution_count": 50,
      "metadata": {
        "id": "Wl3orbscNhOB",
        "colab": {
          "base_uri": "https://localhost:8080/"
        },
        "outputId": "6008bdfd-be64-41da-d0c1-3f62cf8e7245"
      },
      "outputs": [
        {
          "output_type": "stream",
          "name": "stdout",
          "text": [
            "Shape of X_train :  (453797, 2)\n"
          ]
        }
      ],
      "source": [
        "X_train = XPositive.append(XNegative, ignore_index = True)\n",
        "Y_train = YPositive.append(YNegative, ignore_index = True)\n",
        "\n",
        "print(\"Shape of X_train : \", X_train.shape)"
      ]
    },
    {
      "cell_type": "code",
      "execution_count": 51,
      "metadata": {
        "id": "P0t-Fmfdb6x7",
        "colab": {
          "base_uri": "https://localhost:8080/",
          "height": 206
        },
        "outputId": "b5effc35-49eb-4f92-ac4d-f9f52b1a9837"
      },
      "outputs": [
        {
          "output_type": "execute_result",
          "data": {
            "text/plain": [
              "   Source  Destination  Class\n",
              "0   17252         5062      0\n",
              "1    7706         4851      1\n",
              "2    2795        26656      1\n",
              "3    5486         6064      1\n",
              "4    1819        21425      1"
            ],
            "text/html": [
              "\n",
              "  <div id=\"df-7e86fe8e-03c8-45c3-81d2-273321f311cd\">\n",
              "    <div class=\"colab-df-container\">\n",
              "      <div>\n",
              "<style scoped>\n",
              "    .dataframe tbody tr th:only-of-type {\n",
              "        vertical-align: middle;\n",
              "    }\n",
              "\n",
              "    .dataframe tbody tr th {\n",
              "        vertical-align: top;\n",
              "    }\n",
              "\n",
              "    .dataframe thead th {\n",
              "        text-align: right;\n",
              "    }\n",
              "</style>\n",
              "<table border=\"1\" class=\"dataframe\">\n",
              "  <thead>\n",
              "    <tr style=\"text-align: right;\">\n",
              "      <th></th>\n",
              "      <th>Source</th>\n",
              "      <th>Destination</th>\n",
              "      <th>Class</th>\n",
              "    </tr>\n",
              "  </thead>\n",
              "  <tbody>\n",
              "    <tr>\n",
              "      <th>0</th>\n",
              "      <td>17252</td>\n",
              "      <td>5062</td>\n",
              "      <td>0</td>\n",
              "    </tr>\n",
              "    <tr>\n",
              "      <th>1</th>\n",
              "      <td>7706</td>\n",
              "      <td>4851</td>\n",
              "      <td>1</td>\n",
              "    </tr>\n",
              "    <tr>\n",
              "      <th>2</th>\n",
              "      <td>2795</td>\n",
              "      <td>26656</td>\n",
              "      <td>1</td>\n",
              "    </tr>\n",
              "    <tr>\n",
              "      <th>3</th>\n",
              "      <td>5486</td>\n",
              "      <td>6064</td>\n",
              "      <td>1</td>\n",
              "    </tr>\n",
              "    <tr>\n",
              "      <th>4</th>\n",
              "      <td>1819</td>\n",
              "      <td>21425</td>\n",
              "      <td>1</td>\n",
              "    </tr>\n",
              "  </tbody>\n",
              "</table>\n",
              "</div>\n",
              "      <button class=\"colab-df-convert\" onclick=\"convertToInteractive('df-7e86fe8e-03c8-45c3-81d2-273321f311cd')\"\n",
              "              title=\"Convert this dataframe to an interactive table.\"\n",
              "              style=\"display:none;\">\n",
              "        \n",
              "  <svg xmlns=\"http://www.w3.org/2000/svg\" height=\"24px\"viewBox=\"0 0 24 24\"\n",
              "       width=\"24px\">\n",
              "    <path d=\"M0 0h24v24H0V0z\" fill=\"none\"/>\n",
              "    <path d=\"M18.56 5.44l.94 2.06.94-2.06 2.06-.94-2.06-.94-.94-2.06-.94 2.06-2.06.94zm-11 1L8.5 8.5l.94-2.06 2.06-.94-2.06-.94L8.5 2.5l-.94 2.06-2.06.94zm10 10l.94 2.06.94-2.06 2.06-.94-2.06-.94-.94-2.06-.94 2.06-2.06.94z\"/><path d=\"M17.41 7.96l-1.37-1.37c-.4-.4-.92-.59-1.43-.59-.52 0-1.04.2-1.43.59L10.3 9.45l-7.72 7.72c-.78.78-.78 2.05 0 2.83L4 21.41c.39.39.9.59 1.41.59.51 0 1.02-.2 1.41-.59l7.78-7.78 2.81-2.81c.8-.78.8-2.07 0-2.86zM5.41 20L4 18.59l7.72-7.72 1.47 1.35L5.41 20z\"/>\n",
              "  </svg>\n",
              "      </button>\n",
              "      \n",
              "  <style>\n",
              "    .colab-df-container {\n",
              "      display:flex;\n",
              "      flex-wrap:wrap;\n",
              "      gap: 12px;\n",
              "    }\n",
              "\n",
              "    .colab-df-convert {\n",
              "      background-color: #E8F0FE;\n",
              "      border: none;\n",
              "      border-radius: 50%;\n",
              "      cursor: pointer;\n",
              "      display: none;\n",
              "      fill: #1967D2;\n",
              "      height: 32px;\n",
              "      padding: 0 0 0 0;\n",
              "      width: 32px;\n",
              "    }\n",
              "\n",
              "    .colab-df-convert:hover {\n",
              "      background-color: #E2EBFA;\n",
              "      box-shadow: 0px 1px 2px rgba(60, 64, 67, 0.3), 0px 1px 3px 1px rgba(60, 64, 67, 0.15);\n",
              "      fill: #174EA6;\n",
              "    }\n",
              "\n",
              "    [theme=dark] .colab-df-convert {\n",
              "      background-color: #3B4455;\n",
              "      fill: #D2E3FC;\n",
              "    }\n",
              "\n",
              "    [theme=dark] .colab-df-convert:hover {\n",
              "      background-color: #434B5C;\n",
              "      box-shadow: 0px 1px 3px 1px rgba(0, 0, 0, 0.15);\n",
              "      filter: drop-shadow(0px 1px 2px rgba(0, 0, 0, 0.3));\n",
              "      fill: #FFFFFF;\n",
              "    }\n",
              "  </style>\n",
              "\n",
              "      <script>\n",
              "        const buttonEl =\n",
              "          document.querySelector('#df-7e86fe8e-03c8-45c3-81d2-273321f311cd button.colab-df-convert');\n",
              "        buttonEl.style.display =\n",
              "          google.colab.kernel.accessAllowed ? 'block' : 'none';\n",
              "\n",
              "        async function convertToInteractive(key) {\n",
              "          const element = document.querySelector('#df-7e86fe8e-03c8-45c3-81d2-273321f311cd');\n",
              "          const dataTable =\n",
              "            await google.colab.kernel.invokeFunction('convertToInteractive',\n",
              "                                                     [key], {});\n",
              "          if (!dataTable) return;\n",
              "\n",
              "          const docLinkHtml = 'Like what you see? Visit the ' +\n",
              "            '<a target=\"_blank\" href=https://colab.research.google.com/notebooks/data_table.ipynb>data table notebook</a>'\n",
              "            + ' to learn more about interactive tables.';\n",
              "          element.innerHTML = '';\n",
              "          dataTable['output_type'] = 'display_data';\n",
              "          await google.colab.output.renderOutput(dataTable, element);\n",
              "          const docLink = document.createElement('div');\n",
              "          docLink.innerHTML = docLinkHtml;\n",
              "          element.appendChild(docLink);\n",
              "        }\n",
              "      </script>\n",
              "    </div>\n",
              "  </div>\n",
              "  "
            ]
          },
          "metadata": {},
          "execution_count": 51
        }
      ],
      "source": [
        "train_df = X_train.copy()\n",
        "train_df['Class'] = Y_train\n",
        "\n",
        "#shuffling the data\n",
        "train_df = train_df.sample(frac = 1).reset_index(drop=True)\n",
        "train_df.head(5)"
      ]
    },
    {
      "cell_type": "code",
      "execution_count": 52,
      "metadata": {
        "id": "czPfVMoN3wY4"
      },
      "outputs": [],
      "source": [
        "def clean_dataset(df):\n",
        "    assert isinstance(df, pd.DataFrame), \"df needs to be a pd.DataFrame\"\n",
        "    df.dropna(inplace=True)\n",
        "    indices_to_keep = ~df.isin([np.nan, np.inf, -np.inf]).any(1)\n",
        "    return df[indices_to_keep].astype(np.float64)"
      ]
    },
    {
      "cell_type": "markdown",
      "metadata": {
        "id": "L4R3Q_jovCHr"
      },
      "source": [
        "### **Feature DataFrame Creation**\n"
      ]
    },
    {
      "cell_type": "code",
      "execution_count": 53,
      "metadata": {
        "id": "E3d1r0VLjXFd"
      },
      "outputs": [],
      "source": [
        "def extract_features(df,graph):\n",
        "  df['jaccard_1'] = df.apply(lambda row:jaccard_1(row['Source'], row['Destination'],graph), axis=1)\n",
        "  df['jaccard_2'] = df.apply(lambda row:jaccard_2(row['Source'], row['Destination'],graph), axis=1)\n",
        "\n",
        "  df['cosine_1'] = df.apply(lambda row:cosine_1(row['Source'], row['Destination'],graph), axis=1)\n",
        "  df['cosine_2'] = df.apply(lambda row:cosine_2(row['Source'], row['Destination'],graph), axis=1)\n",
        "\n",
        "  df['Page_Rank0_s'] = df.Source.apply(lambda row: pr.get(row, meanPageRankValue))\n",
        "  df['Page_Rank0_d'] = df.Destination.apply(lambda row: pr.get(row, meanPageRankValue))\n",
        "\n",
        "  df['shortest_path'] = df.apply(lambda row: spl_fun(row['Source'], row['Destination'],graph),axis=1)\n",
        "\n",
        "  df['adar'] = df.apply(lambda row:adar_index(row['Source'], row['Destination'],graph), axis=1)\n",
        "\n",
        "  df['followsBack'] = df.apply(lambda row: followsBack(row['Source'], row['Destination'],graph),axis=1)\n",
        "\n",
        "  df['katz_s'] = df['Source'].apply(lambda row: katz.get(row, meanKatzCentralityValue))\n",
        "  df['katz_d'] = df['Destination'].apply(lambda row: katz.get(row, meanKatzCentralityValue))\n",
        "\n",
        "  df['hubs_s'] = df['Source'].apply(lambda x: hits[0].get(x, 0))\n",
        "  df['hubs_d'] = df['Destination'].apply(lambda x: hits[0].get(x, 0))\n",
        "\n",
        "  df['authorities_s'] = df['Source'].apply(lambda x: hits[1].get(x, 0))\n",
        "  df['authorities_d'] = df['Destination'].apply(lambda x: hits[1].get(x, 0))\n",
        "\n",
        "  df['pref_attachment_1'] = df.apply(lambda row:pref_attachment_1(row['Source'], row['Destination'],graph), axis=1)\n",
        "  df['pref_attachment_2'] = df.apply(lambda row:pref_attachment_2(row['Source'], row['Destination'],graph), axis=1)\n",
        "\n",
        "  df['common_neighbour_1'] = df.apply(lambda row: common_followers(row['Source'], row['Destination'],graph),axis=1)\n",
        "  df['common_neighbour_2'] = df.apply(lambda row: common_followees(row['Source'], row['Destination'],graph),axis=1)\n",
        "\n",
        "  #Low Rank Approximation Using SVD\n",
        "  df = lowRankApproximation(df)\n",
        "\n",
        "  return df"
      ]
    },
    {
      "cell_type": "code",
      "execution_count": 54,
      "metadata": {
        "id": "YAw009CM43vJ"
      },
      "outputs": [],
      "source": [
        "train_df = extract_features(train_df,XPositiveGraph)\n"
      ]
    },
    {
      "cell_type": "code",
      "execution_count": 55,
      "metadata": {
        "id": "yzMIoZfp4-yR"
      },
      "outputs": [],
      "source": [
        "train_df=clean_dataset(train_df)\n"
      ]
    },
    {
      "cell_type": "markdown",
      "source": [
        "#Making Equal No of 0 and 1's in Test_df and Train_df for the target class variable"
      ],
      "metadata": {
        "id": "a6ODHxdGx0wW"
      }
    },
    {
      "cell_type": "code",
      "execution_count": 56,
      "metadata": {
        "id": "3mDGLF8I6pRK"
      },
      "outputs": [],
      "source": [
        "\n",
        "class_counts = train_df['Class'].value_counts()\n",
        "class_weights = len(class_counts)/class_counts\n",
        "train_df = train_df.sample(\n",
        "    n=class_counts.max()*len(class_counts),\n",
        "    weights=train_df['Class'].map(class_weights), \n",
        "    replace=True)"
      ]
    },
    {
      "cell_type": "code",
      "execution_count": 57,
      "metadata": {
        "id": "hCMLgLJk7vW1"
      },
      "outputs": [],
      "source": [
        "# train_df = train_df.loc[:, ~df.columns.str.contains('^Unnamed')]"
      ]
    },
    {
      "cell_type": "code",
      "source": [
        "from sklearn.model_selection import train_test_split \n",
        "X = train_df.drop('Class', axis =1)\n",
        "y = train_df['Class']\n",
        "X_train, X_test, Y_train, Y_test = train_test_split( X,y , test_size = 0.3, random_state = 0) \n",
        "print(X_train.shape)\n",
        "print(X_test.shape)"
      ],
      "metadata": {
        "id": "rnlga6gOcluz",
        "outputId": "fac151df-3fed-4a75-f9a3-c7356cbd5a80",
        "colab": {
          "base_uri": "https://localhost:8080/"
        }
      },
      "execution_count": 91,
      "outputs": [
        {
          "output_type": "stream",
          "name": "stdout",
          "text": [
            "(397072, 45)\n",
            "(170174, 45)\n"
          ]
        }
      ]
    },
    {
      "cell_type": "code",
      "execution_count": 92,
      "metadata": {
        "id": "GU_KWWoGYNY5",
        "colab": {
          "base_uri": "https://localhost:8080/"
        },
        "outputId": "b25cdca7-afa1-40cb-efa2-d69387b54a5a"
      },
      "outputs": [
        {
          "output_type": "stream",
          "name": "stdout",
          "text": [
            "Shape of X_train :  (397072, 45)\n",
            "Shape of X_test :  (170174, 45)\n"
          ]
        }
      ],
      "source": [
        "\n",
        "\n",
        "print(\"Shape of X_train : \", X_train.shape)\n",
        "print(\"Shape of X_test : \", X_test.shape)"
      ]
    },
    {
      "cell_type": "code",
      "execution_count": 93,
      "metadata": {
        "id": "ssPr5BPwiU9g",
        "colab": {
          "base_uri": "https://localhost:8080/",
          "height": 386
        },
        "outputId": "e93c696e-e8e7-4903-c6a9-ccaeb3b0bb31"
      },
      "outputs": [
        {
          "output_type": "execute_result",
          "data": {
            "text/plain": [
              "         Source  Destination  jaccard_1  jaccard_2  cosine_1  cosine_2  \\\n",
              "125128  12460.0      14484.0   0.000000   0.000000  0.000000  0.000000   \n",
              "76897   16152.0      24064.0   0.000000   0.000000  0.000000  0.000000   \n",
              "23851   22323.0       7301.0   0.000000   0.000000  0.000000  0.000000   \n",
              "183728   5415.0       5465.0   0.047619   0.000000  0.092450  0.000000   \n",
              "333717  10244.0      11257.0   0.146341   0.014925  0.285391  0.071611   \n",
              "\n",
              "        Page_Rank0_s  Page_Rank0_d  shortest_path     adar  ...  svdVFrom_3  \\\n",
              "125128      0.000034      0.000019           -1.0  0.00000  ...   -0.000062   \n",
              "76897       0.000031      0.000018           -1.0  0.00000  ...   -0.000576   \n",
              "23851       0.000019      0.000053           -1.0  0.00000  ...    0.006837   \n",
              "183728      0.000019      0.000068           -1.0  0.00000  ...    0.004598   \n",
              "333717      0.000033      0.000022           -1.0  0.69101  ...    0.004144   \n",
              "\n",
              "        svdVFrom_4  svdVFrom_5  svdVFrom_6  svdVTo_1  svdVTo_2  svdVTo_3  \\\n",
              "125128   -0.000003   -0.000623   -0.000144  0.000139 -0.003234 -0.009370   \n",
              "76897     0.000003   -0.002550   -0.000264  0.001918 -0.008653  0.003194   \n",
              "23851     0.000010    0.000875   -0.012845  0.001107  0.001910 -0.002167   \n",
              "183728    0.000013   -0.005549   -0.013722 -0.003178  0.012087 -0.000938   \n",
              "333717    0.000007    0.002817   -0.012416 -0.000235 -0.000067 -0.000135   \n",
              "\n",
              "            svdVTo_4  svdVTo_5  svdVTo_6  \n",
              "125128  7.167733e-06  0.002868 -0.006058  \n",
              "76897   1.809744e-05  0.003822 -0.009690  \n",
              "23851  -1.404303e-06 -0.010988 -0.001309  \n",
              "183728  3.363515e-06 -0.007076 -0.001168  \n",
              "333717  7.545958e-07 -0.000775 -0.000169  \n",
              "\n",
              "[5 rows x 45 columns]"
            ],
            "text/html": [
              "\n",
              "  <div id=\"df-fe7a897c-eaad-42e1-8e28-ba0d65d80fb3\">\n",
              "    <div class=\"colab-df-container\">\n",
              "      <div>\n",
              "<style scoped>\n",
              "    .dataframe tbody tr th:only-of-type {\n",
              "        vertical-align: middle;\n",
              "    }\n",
              "\n",
              "    .dataframe tbody tr th {\n",
              "        vertical-align: top;\n",
              "    }\n",
              "\n",
              "    .dataframe thead th {\n",
              "        text-align: right;\n",
              "    }\n",
              "</style>\n",
              "<table border=\"1\" class=\"dataframe\">\n",
              "  <thead>\n",
              "    <tr style=\"text-align: right;\">\n",
              "      <th></th>\n",
              "      <th>Source</th>\n",
              "      <th>Destination</th>\n",
              "      <th>jaccard_1</th>\n",
              "      <th>jaccard_2</th>\n",
              "      <th>cosine_1</th>\n",
              "      <th>cosine_2</th>\n",
              "      <th>Page_Rank0_s</th>\n",
              "      <th>Page_Rank0_d</th>\n",
              "      <th>shortest_path</th>\n",
              "      <th>adar</th>\n",
              "      <th>...</th>\n",
              "      <th>svdVFrom_3</th>\n",
              "      <th>svdVFrom_4</th>\n",
              "      <th>svdVFrom_5</th>\n",
              "      <th>svdVFrom_6</th>\n",
              "      <th>svdVTo_1</th>\n",
              "      <th>svdVTo_2</th>\n",
              "      <th>svdVTo_3</th>\n",
              "      <th>svdVTo_4</th>\n",
              "      <th>svdVTo_5</th>\n",
              "      <th>svdVTo_6</th>\n",
              "    </tr>\n",
              "  </thead>\n",
              "  <tbody>\n",
              "    <tr>\n",
              "      <th>125128</th>\n",
              "      <td>12460.0</td>\n",
              "      <td>14484.0</td>\n",
              "      <td>0.000000</td>\n",
              "      <td>0.000000</td>\n",
              "      <td>0.000000</td>\n",
              "      <td>0.000000</td>\n",
              "      <td>0.000034</td>\n",
              "      <td>0.000019</td>\n",
              "      <td>-1.0</td>\n",
              "      <td>0.00000</td>\n",
              "      <td>...</td>\n",
              "      <td>-0.000062</td>\n",
              "      <td>-0.000003</td>\n",
              "      <td>-0.000623</td>\n",
              "      <td>-0.000144</td>\n",
              "      <td>0.000139</td>\n",
              "      <td>-0.003234</td>\n",
              "      <td>-0.009370</td>\n",
              "      <td>7.167733e-06</td>\n",
              "      <td>0.002868</td>\n",
              "      <td>-0.006058</td>\n",
              "    </tr>\n",
              "    <tr>\n",
              "      <th>76897</th>\n",
              "      <td>16152.0</td>\n",
              "      <td>24064.0</td>\n",
              "      <td>0.000000</td>\n",
              "      <td>0.000000</td>\n",
              "      <td>0.000000</td>\n",
              "      <td>0.000000</td>\n",
              "      <td>0.000031</td>\n",
              "      <td>0.000018</td>\n",
              "      <td>-1.0</td>\n",
              "      <td>0.00000</td>\n",
              "      <td>...</td>\n",
              "      <td>-0.000576</td>\n",
              "      <td>0.000003</td>\n",
              "      <td>-0.002550</td>\n",
              "      <td>-0.000264</td>\n",
              "      <td>0.001918</td>\n",
              "      <td>-0.008653</td>\n",
              "      <td>0.003194</td>\n",
              "      <td>1.809744e-05</td>\n",
              "      <td>0.003822</td>\n",
              "      <td>-0.009690</td>\n",
              "    </tr>\n",
              "    <tr>\n",
              "      <th>23851</th>\n",
              "      <td>22323.0</td>\n",
              "      <td>7301.0</td>\n",
              "      <td>0.000000</td>\n",
              "      <td>0.000000</td>\n",
              "      <td>0.000000</td>\n",
              "      <td>0.000000</td>\n",
              "      <td>0.000019</td>\n",
              "      <td>0.000053</td>\n",
              "      <td>-1.0</td>\n",
              "      <td>0.00000</td>\n",
              "      <td>...</td>\n",
              "      <td>0.006837</td>\n",
              "      <td>0.000010</td>\n",
              "      <td>0.000875</td>\n",
              "      <td>-0.012845</td>\n",
              "      <td>0.001107</td>\n",
              "      <td>0.001910</td>\n",
              "      <td>-0.002167</td>\n",
              "      <td>-1.404303e-06</td>\n",
              "      <td>-0.010988</td>\n",
              "      <td>-0.001309</td>\n",
              "    </tr>\n",
              "    <tr>\n",
              "      <th>183728</th>\n",
              "      <td>5415.0</td>\n",
              "      <td>5465.0</td>\n",
              "      <td>0.047619</td>\n",
              "      <td>0.000000</td>\n",
              "      <td>0.092450</td>\n",
              "      <td>0.000000</td>\n",
              "      <td>0.000019</td>\n",
              "      <td>0.000068</td>\n",
              "      <td>-1.0</td>\n",
              "      <td>0.00000</td>\n",
              "      <td>...</td>\n",
              "      <td>0.004598</td>\n",
              "      <td>0.000013</td>\n",
              "      <td>-0.005549</td>\n",
              "      <td>-0.013722</td>\n",
              "      <td>-0.003178</td>\n",
              "      <td>0.012087</td>\n",
              "      <td>-0.000938</td>\n",
              "      <td>3.363515e-06</td>\n",
              "      <td>-0.007076</td>\n",
              "      <td>-0.001168</td>\n",
              "    </tr>\n",
              "    <tr>\n",
              "      <th>333717</th>\n",
              "      <td>10244.0</td>\n",
              "      <td>11257.0</td>\n",
              "      <td>0.146341</td>\n",
              "      <td>0.014925</td>\n",
              "      <td>0.285391</td>\n",
              "      <td>0.071611</td>\n",
              "      <td>0.000033</td>\n",
              "      <td>0.000022</td>\n",
              "      <td>-1.0</td>\n",
              "      <td>0.69101</td>\n",
              "      <td>...</td>\n",
              "      <td>0.004144</td>\n",
              "      <td>0.000007</td>\n",
              "      <td>0.002817</td>\n",
              "      <td>-0.012416</td>\n",
              "      <td>-0.000235</td>\n",
              "      <td>-0.000067</td>\n",
              "      <td>-0.000135</td>\n",
              "      <td>7.545958e-07</td>\n",
              "      <td>-0.000775</td>\n",
              "      <td>-0.000169</td>\n",
              "    </tr>\n",
              "  </tbody>\n",
              "</table>\n",
              "<p>5 rows × 45 columns</p>\n",
              "</div>\n",
              "      <button class=\"colab-df-convert\" onclick=\"convertToInteractive('df-fe7a897c-eaad-42e1-8e28-ba0d65d80fb3')\"\n",
              "              title=\"Convert this dataframe to an interactive table.\"\n",
              "              style=\"display:none;\">\n",
              "        \n",
              "  <svg xmlns=\"http://www.w3.org/2000/svg\" height=\"24px\"viewBox=\"0 0 24 24\"\n",
              "       width=\"24px\">\n",
              "    <path d=\"M0 0h24v24H0V0z\" fill=\"none\"/>\n",
              "    <path d=\"M18.56 5.44l.94 2.06.94-2.06 2.06-.94-2.06-.94-.94-2.06-.94 2.06-2.06.94zm-11 1L8.5 8.5l.94-2.06 2.06-.94-2.06-.94L8.5 2.5l-.94 2.06-2.06.94zm10 10l.94 2.06.94-2.06 2.06-.94-2.06-.94-.94-2.06-.94 2.06-2.06.94z\"/><path d=\"M17.41 7.96l-1.37-1.37c-.4-.4-.92-.59-1.43-.59-.52 0-1.04.2-1.43.59L10.3 9.45l-7.72 7.72c-.78.78-.78 2.05 0 2.83L4 21.41c.39.39.9.59 1.41.59.51 0 1.02-.2 1.41-.59l7.78-7.78 2.81-2.81c.8-.78.8-2.07 0-2.86zM5.41 20L4 18.59l7.72-7.72 1.47 1.35L5.41 20z\"/>\n",
              "  </svg>\n",
              "      </button>\n",
              "      \n",
              "  <style>\n",
              "    .colab-df-container {\n",
              "      display:flex;\n",
              "      flex-wrap:wrap;\n",
              "      gap: 12px;\n",
              "    }\n",
              "\n",
              "    .colab-df-convert {\n",
              "      background-color: #E8F0FE;\n",
              "      border: none;\n",
              "      border-radius: 50%;\n",
              "      cursor: pointer;\n",
              "      display: none;\n",
              "      fill: #1967D2;\n",
              "      height: 32px;\n",
              "      padding: 0 0 0 0;\n",
              "      width: 32px;\n",
              "    }\n",
              "\n",
              "    .colab-df-convert:hover {\n",
              "      background-color: #E2EBFA;\n",
              "      box-shadow: 0px 1px 2px rgba(60, 64, 67, 0.3), 0px 1px 3px 1px rgba(60, 64, 67, 0.15);\n",
              "      fill: #174EA6;\n",
              "    }\n",
              "\n",
              "    [theme=dark] .colab-df-convert {\n",
              "      background-color: #3B4455;\n",
              "      fill: #D2E3FC;\n",
              "    }\n",
              "\n",
              "    [theme=dark] .colab-df-convert:hover {\n",
              "      background-color: #434B5C;\n",
              "      box-shadow: 0px 1px 3px 1px rgba(0, 0, 0, 0.15);\n",
              "      filter: drop-shadow(0px 1px 2px rgba(0, 0, 0, 0.3));\n",
              "      fill: #FFFFFF;\n",
              "    }\n",
              "  </style>\n",
              "\n",
              "      <script>\n",
              "        const buttonEl =\n",
              "          document.querySelector('#df-fe7a897c-eaad-42e1-8e28-ba0d65d80fb3 button.colab-df-convert');\n",
              "        buttonEl.style.display =\n",
              "          google.colab.kernel.accessAllowed ? 'block' : 'none';\n",
              "\n",
              "        async function convertToInteractive(key) {\n",
              "          const element = document.querySelector('#df-fe7a897c-eaad-42e1-8e28-ba0d65d80fb3');\n",
              "          const dataTable =\n",
              "            await google.colab.kernel.invokeFunction('convertToInteractive',\n",
              "                                                     [key], {});\n",
              "          if (!dataTable) return;\n",
              "\n",
              "          const docLinkHtml = 'Like what you see? Visit the ' +\n",
              "            '<a target=\"_blank\" href=https://colab.research.google.com/notebooks/data_table.ipynb>data table notebook</a>'\n",
              "            + ' to learn more about interactive tables.';\n",
              "          element.innerHTML = '';\n",
              "          dataTable['output_type'] = 'display_data';\n",
              "          await google.colab.output.renderOutput(dataTable, element);\n",
              "          const docLink = document.createElement('div');\n",
              "          docLink.innerHTML = docLinkHtml;\n",
              "          element.appendChild(docLink);\n",
              "        }\n",
              "      </script>\n",
              "    </div>\n",
              "  </div>\n",
              "  "
            ]
          },
          "metadata": {},
          "execution_count": 93
        }
      ],
      "source": [
        "X_train.head()"
      ]
    },
    {
      "cell_type": "markdown",
      "metadata": {
        "id": "jgjAwckSzU3L"
      },
      "source": [
        "**dropping Source node and destination node from features**"
      ]
    },
    {
      "cell_type": "code",
      "execution_count": 94,
      "metadata": {
        "id": "aMU03dG2yoPt",
        "colab": {
          "base_uri": "https://localhost:8080/"
        },
        "outputId": "b8b0bf32-65db-4a18-a581-d2c9c47c27c4"
      },
      "outputs": [
        {
          "output_type": "stream",
          "name": "stdout",
          "text": [
            "Train data: ((397072, 43), (397072,))\n",
            "Test data: ((170174, 43), (170174,))\n"
          ]
        }
      ],
      "source": [
        "X_train = X_train.drop(['Source', 'Destination'], axis = 1)\n",
        "X_test = X_test.drop(['Source', 'Destination'], axis = 1)\n",
        "\n",
        "print('Train data:', (X_train.shape, Y_train.shape))\n",
        "print('Test data:', (X_test.shape, Y_test.shape))"
      ]
    },
    {
      "cell_type": "markdown",
      "metadata": {
        "id": "Pph97wuiTqE7"
      },
      "source": [
        "###**Training ML Models**"
      ]
    },
    {
      "cell_type": "markdown",
      "metadata": {
        "id": "yf87upLxvMnI"
      },
      "source": [
        "**cross-validation**"
      ]
    },
    {
      "cell_type": "code",
      "execution_count": 66,
      "metadata": {
        "id": "fGPMxTbXuHTe"
      },
      "outputs": [],
      "source": [
        "def cross_validate(model):\n",
        "\n",
        "  for train_index, test_index in kf.split(X_train):\n",
        "      x_train, x_val = X_train.iloc[train_index], X_train.iloc[test_index]\n",
        "      y_train, y_val = Y_train[train_index], Y_train[test_index]\n",
        "\n",
        "      model.fit(x_train, y_train)\n",
        "      scores = cross_val_score(model, x_val, y_val, cv=5)\n",
        "      print(\"Validation accuracy: %0.2f (+/- %0.2f)\" % (scores.mean(), scores.std() * 2))"
      ]
    },
    {
      "cell_type": "markdown",
      "source": [
        "#**Normal Classifiers**"
      ],
      "metadata": {
        "id": "A6dgE7Kxnrpe"
      }
    },
    {
      "cell_type": "code",
      "source": [
        "from sklearn.metrics import precision_score,recall_score,f1_score\n",
        "from sklearn.metrics import matthews_corrcoef,cohen_kappa_score,roc_auc_score\n",
        "from sklearn.metrics import accuracy_score\n",
        "def all_metrices(y_test,y_pred):\n",
        "  acc=accuracy_score(y_test, y_pred)\n",
        "  auc=roc_auc_score(y_test,y_pred)\n",
        "  precision=precision_score(y_test, y_pred)\n",
        "  recall=recall_score(y_test, y_pred)\n",
        "  f1=f1_score(y_test, y_pred)\n",
        "  mcc=matthews_corrcoef(y_test,y_pred)\n",
        "  kappa=cohen_kappa_score(y_test,y_pred)\n",
        "\n",
        "  print('Accuracy: %.2f' % (acc*100))\n",
        "  print('Roc_Auc Score: %.2f' % (auc*100))\n",
        "  print('Precision: %.2f' % (precision*100))\n",
        "  print('recall: %.2f' % (recall*100))\n",
        "  print('fl score: %.2f' % (f1*100))\n",
        "  print('Mcc Score: %.2f' % (mcc))\n",
        "  print('Kappa score: %.2f' % (kappa))\n",
        "  print('\\n')\n",
        "  "
      ],
      "metadata": {
        "id": "40aRFXC1oFW1"
      },
      "execution_count": 67,
      "outputs": []
    },
    {
      "cell_type": "code",
      "source": [
        ""
      ],
      "metadata": {
        "id": "rYJxjowJoFZQ"
      },
      "execution_count": 67,
      "outputs": []
    },
    {
      "cell_type": "code",
      "source": [
        "from sklearn.metrics import accuracy_score, confusion_matrix, classification_report\n",
        "\n",
        "def print_score(clf, X_train, y_train, X_test, y_test, train):\n",
        "    if train:\n",
        "        pred = clf.predict(X_train)\n",
        "        \n",
        "        clf_report = pd.DataFrame(classification_report(y_train, pred, output_dict=True))\n",
        "        print(\"Train Result:\\n================================================\")\n",
        "        # print(f\"Accuracy Score: {accuracy_score(y_train, pred) * 100:.2f}%\")\n",
        "        # print(\"_______________________________________________\")\n",
        "        # print(f\"CLASSIFICATION REPORT:\\n{clf_report}\")\n",
        "        print(\"_______________________________________________\")\n",
        "        print(f\"Confusion Matrix: \\n {confusion_matrix(y_train, pred)}\\n\")\n",
        "        all_metrices(y_train,pred)\n",
        "    elif train==False:\n",
        "        pred = clf.predict(X_test)\n",
        "        \n",
        "        clf_report = pd.DataFrame(classification_report(y_test, pred, output_dict=True))\n",
        "        print(\"Test Result:\\n================================================\")        \n",
        "        # print(f\"Accuracy Score: {accuracy_score(y_test, pred) * 100:.2f}%\")\n",
        "        # print(\"_______________________________________________\")\n",
        "        # print(f\"CLASSIFICATION REPORT:\\n{clf_report}\")\n",
        "        print(\"_______________________________________________\")\n",
        "        print(f\"Confusion Matrix: \\n {confusion_matrix(y_test, pred)}\\n\")\n",
        "        all_metrices(y_test,pred)"
      ],
      "metadata": {
        "id": "QdVDmDVDnvHH"
      },
      "execution_count": 68,
      "outputs": []
    },
    {
      "cell_type": "code",
      "source": [
        "from sklearn.linear_model import LogisticRegression\n",
        "\n",
        "# lr_clf = LogisticRegression()\n",
        "# lr_clf.fit(X_train, Y_train)\n",
        "\n",
        "# print_score(lr_clf, X_train, Y_train, X_test, Y_test, train=True)\n",
        "# print_score(lr_clf, X_train, Y_train, X_test, Y_test, train=False)"
      ],
      "metadata": {
        "id": "tsnPz_vsn96U"
      },
      "execution_count": null,
      "outputs": []
    },
    {
      "cell_type": "code",
      "source": [
        "from sklearn.neighbors import KNeighborsClassifier\n",
        "\n",
        "# knn_clf = KNeighborsClassifier()\n",
        "# knn_clf.fit(X_train, Y_train)\n",
        "\n",
        "# print_score(knn_clf, X_train, Y_train, X_test, Y_test, train=True)\n",
        "# print_score(knn_clf, X_train, Y_train, X_test, Y_test, train=False)"
      ],
      "metadata": {
        "id": "nRx8irWMoPlJ"
      },
      "execution_count": null,
      "outputs": []
    },
    {
      "cell_type": "code",
      "source": [
        "from sklearn.svm import SVC\n",
        "\n",
        "\n",
        "# svm_clf = SVC(kernel='rbf')\n",
        "# svm_clf.fit(X_train, Y_train)\n",
        "\n",
        "# print_score(svm_clf, X_train, Y_train, X_test, Y_test, train=True)\n",
        "# print_score(svm_clf, X_train, Y_train, X_test, Y_test, train=False)"
      ],
      "metadata": {
        "id": "U5KdfWiHofm_"
      },
      "execution_count": null,
      "outputs": []
    },
    {
      "cell_type": "code",
      "source": [
        "from sklearn.tree import DecisionTreeClassifier\n",
        "\n",
        "\n",
        "# tree_clf = DecisionTreeClassifier(random_state=42)\n",
        "# tree_clf.fit(X_train, Y_train)\n",
        "\n",
        "# print_score(tree_clf, X_train, Y_train, X_test, Y_test, train=True)\n",
        "# print_score(tree_clf, X_train, Y_train, X_test, Y_test, train=False)"
      ],
      "metadata": {
        "id": "MI2_8NnholNn"
      },
      "execution_count": null,
      "outputs": []
    },
    {
      "cell_type": "code",
      "source": [
        "from sklearn.ensemble import RandomForestClassifier\n",
        "from sklearn.model_selection import RandomizedSearchCV\n",
        "\n",
        "# rf_clf = RandomForestClassifier(n_estimators=2000, random_state=42)\n",
        "# rf_clf.fit(X_train, Y_train)\n",
        "# print_score(rf_clf, X_train, Y_train, X_test, Y_test, train=True)\n",
        "# print_score(rf_clf, X_train, Y_train, X_test, Y_test, train=False)"
      ],
      "metadata": {
        "id": "iCtC7Lnjosei"
      },
      "execution_count": null,
      "outputs": []
    },
    {
      "cell_type": "code",
      "source": [
        "from xgboost import XGBClassifier\n",
        "\n",
        "# xgb_clf = XGBClassifier()\n",
        "# xgb_clf.fit(X_train, Y_train)\n",
        "# print_score(xgb_clf, X_train, Y_train, X_test, Y_test, train=True)\n",
        "# print_score(xgb_clf, X_train, Y_train, X_test, Y_test, train=False)"
      ],
      "metadata": {
        "id": "NHAxC7UBox3g"
      },
      "execution_count": null,
      "outputs": []
    },
    {
      "cell_type": "markdown",
      "source": [
        "#**Varience Based Feature selection results**"
      ],
      "metadata": {
        "id": "RLIERQRqa-mS"
      }
    },
    {
      "cell_type": "code",
      "source": [
        "# var =[]\n",
        "# for i in X_train.columns:\n",
        "#   temp = np.var(X_train[i])\n",
        "#   var.append(temp)\n",
        "\n",
        "# median_var = statistics.mean(var)\n",
        "# median_var\n",
        "# selector = VarianceThreshold(median_var)\n",
        "# X_train_var =selector.fit_transform(X_train)\n",
        "\n",
        "# X_train_var.shape\n",
        "# dropped = []\n",
        "\n",
        "# features = X_train.columns[(selector.get_support())]\n",
        "# f = (X_train.columns).tolist()\n",
        "# drop = list(set(f)- set(features))\n",
        "\n",
        "# for i in drop:\n",
        "#   dropped.append(i)\n",
        "# X_test_var = X_test.drop(dropped,axis=1)\n",
        "# X_test_var.shape"
      ],
      "metadata": {
        "id": "g5pyHX0tbD1m"
      },
      "execution_count": null,
      "outputs": []
    },
    {
      "cell_type": "code",
      "source": [
        "# from sklearn.linear_model import LogisticRegression\n",
        "\n",
        "# Models=[LogisticRegression()]\n",
        "# for model in Models:\n",
        "#   clf=model\n",
        "#   clf.fit(X_train_var, Y_train)\n",
        "#   print_score(clf, X_train_var, Y_train, X_test_var, Y_test, train=True)\n",
        "#   print_score(clf, X_train_var, Y_train, X_test_var, Y_test, train=False)\n",
        "\n"
      ],
      "metadata": {
        "id": "UcrzEWgrbk3j"
      },
      "execution_count": null,
      "outputs": []
    },
    {
      "cell_type": "markdown",
      "source": [
        "#**Correlation Based**"
      ],
      "metadata": {
        "id": "woS9tZmBhpBU"
      }
    },
    {
      "cell_type": "code",
      "source": [
        "# cor = X_train.corr()\n",
        "\n",
        "# # f,ax = plt.subplots(figsize=(14, 14))\n",
        "# # sns.heatmap(cor, annot=True, linewidths=.5, fmt= '.1f',ax=ax)\n",
        "# columns = np.full((cor.shape[0],), True, dtype=bool)\n",
        "# for i in range(cor.shape[0]):\n",
        "#   for j in range(i+1, cor.shape[0]):\n",
        "#     if cor.iloc[i,j] >= 0.85:\n",
        "#       if columns[j]:\n",
        "#         columns[j] = False\n",
        "\n",
        "# selected_columns = X_train.columns[columns]\n",
        "# selected_columns\n",
        "# X_train_cor = X_train[selected_columns]\n",
        "# X_train_cor.shape\n",
        "# X_test_cor = X_test[selected_columns]\n",
        "# X_test_cor.shape"
      ],
      "metadata": {
        "id": "hfBAGnrzhtAt"
      },
      "execution_count": null,
      "outputs": []
    },
    {
      "cell_type": "code",
      "source": [
        "# from sklearn.linear_model import LogisticRegression\n",
        "\n",
        "# Models=[LogisticRegression()]\n",
        "# for model in Models:\n",
        "#   clf=model\n",
        "#   clf.fit(X_train_cor, Y_train)\n",
        "#   print_score(clf, X_train_cor, Y_train, X_test_cor, Y_test, train=True)\n",
        "#   print_score(clf, X_train_cor, Y_train, X_test_cor, Y_test, train=False)\n",
        "\n"
      ],
      "metadata": {
        "id": "ne2hXDJYh6Eh"
      },
      "execution_count": null,
      "outputs": []
    },
    {
      "cell_type": "markdown",
      "source": [
        "#**Recursive Feature Elimination**"
      ],
      "metadata": {
        "id": "9BynCXT6jOLu"
      }
    },
    {
      "cell_type": "code",
      "source": [
        "# from sklearn.feature_selection import RFE\n",
        "\n",
        "# def rfe_selection(model):\n",
        "#   rfe_selector = RFE(estimator = model, n_features_to_select=10)\n",
        "#   rfe_selector.fit(X_train, Y_train)\n",
        "\n",
        "#   rfe_support = rfe_selector.get_support()\n",
        "#   rfe_feature = X_train.loc[:,rfe_support].columns.tolist()\n",
        "#   # print(str(len(rfe_feature)), 'selected features')\n",
        "\n",
        "#   X_train_rfe = X_train[rfe_feature]\n",
        "#   X_test_rfe = X_test[rfe_feature]\n",
        "\n",
        "#   return X_train_rfe, X_test_rfe"
      ],
      "metadata": {
        "id": "KvMCGxn_jSLJ"
      },
      "execution_count": null,
      "outputs": []
    },
    {
      "cell_type": "code",
      "source": [
        "\n",
        "# Models=[DecisionTreeClassifier()]\n",
        "# for model in Models:\n",
        "#   clf=model\n",
        "#   X_train_rfe, X_test_rfe=rfe_selection(model)\n",
        "#   clf.fit(X_train_var, Y_train)\n",
        "#   print_score(clf, X_train_rfe, Y_train, X_test_rfe, Y_test, train=True)\n",
        "#   print_score(clf, X_train_rfe, Y_train, X_test_rfe, Y_test, train=False)\n",
        "\n"
      ],
      "metadata": {
        "id": "_VnkbwcojU24"
      },
      "execution_count": null,
      "outputs": []
    },
    {
      "cell_type": "markdown",
      "source": [
        "#**Pearson Correlation**"
      ],
      "metadata": {
        "id": "3UCaQbperftQ"
      }
    },
    {
      "cell_type": "code",
      "source": [
        "#Using Pearson Correlation\n",
        "# plt.figure(figsize=(200,200))\n",
        "\n",
        "cor = train_df.corr(method='pearson')\n",
        "# sns.heatmap(cor, annot=True, cmap=plt.cm.Reds)\n",
        "# plt.show()\n",
        "#Correlation with output variable\n",
        "\n",
        "cor_target= abs(cor['Class'])\n",
        "\n",
        "\n",
        "#Selecting highly correlated features\n",
        "relevant_features = cor_target[cor_target>0.15]\n",
        "\n",
        "print(len(relevant_features))"
      ],
      "metadata": {
        "id": "0RP8Dd-qrj5O",
        "outputId": "f35e8c38-0516-45e6-b9fb-2ccc05c27dcb",
        "colab": {
          "base_uri": "https://localhost:8080/"
        }
      },
      "execution_count": 76,
      "outputs": [
        {
          "output_type": "stream",
          "name": "stdout",
          "text": [
            "17\n"
          ]
        }
      ]
    },
    {
      "cell_type": "code",
      "source": [
        "new_df=train_df[relevant_features.keys()]"
      ],
      "metadata": {
        "id": "f1HtaEzokfqa"
      },
      "execution_count": 77,
      "outputs": []
    },
    {
      "cell_type": "code",
      "source": [
        "from sklearn.model_selection import train_test_split \n",
        "X = new_df.drop('Class', axis =1)\n",
        "y = new_df['Class']\n",
        "X_train, X_test, Y_train, Y_test = train_test_split( X,y , test_size = 0.3, random_state = 0) \n",
        "print(X_train.shape)\n",
        "print(X_test.shape)"
      ],
      "metadata": {
        "id": "LRbES3EMkNdX",
        "outputId": "5ecbeec9-dd42-498a-c06f-5d7c0f997cf8",
        "colab": {
          "base_uri": "https://localhost:8080/"
        }
      },
      "execution_count": 78,
      "outputs": [
        {
          "output_type": "stream",
          "name": "stdout",
          "text": [
            "(397072, 16)\n",
            "(170174, 16)\n"
          ]
        }
      ]
    },
    {
      "cell_type": "code",
      "source": [
        "X_train = X_train.drop(['Source', 'Destination'], axis = 1)\n",
        "X_test = X_test.drop(['Source', 'Destination'], axis = 1)\n",
        "\n",
        "print('Train data:', (X_train.shape, Y_train.shape))\n",
        "print('Test data:', (X_test.shape, Y_test.shape))"
      ],
      "metadata": {
        "id": "FbAtEFGqkWRJ",
        "outputId": "b10cbf0b-9cf9-4dc5-d65c-bc714935980e",
        "colab": {
          "base_uri": "https://localhost:8080/"
        }
      },
      "execution_count": 79,
      "outputs": [
        {
          "output_type": "stream",
          "name": "stdout",
          "text": [
            "Train data: ((397072, 14), (397072,))\n",
            "Test data: ((170174, 14), (170174,))\n"
          ]
        }
      ]
    },
    {
      "cell_type": "code",
      "source": [
        "\n",
        "# train_pearson=train_df[relevant_features.keys()] \n",
        "# train_pearson=train_pearson.drop(\"Class\",axis=1)\n",
        "# # test_pearson=test_df[relevant_features.keys()]\n",
        "# # test_pearson=test_pearson.drop(\"Class\",axis=1)"
      ],
      "metadata": {
        "id": "zDYQqK8Qrv_2"
      },
      "execution_count": 80,
      "outputs": []
    },
    {
      "cell_type": "code",
      "source": [
        "print(\"Relevant_Features\",relevant_features.keys())"
      ],
      "metadata": {
        "id": "soWjsezfjqg1",
        "outputId": "835330d4-5ea1-4335-bb02-9143ddd2107d",
        "colab": {
          "base_uri": "https://localhost:8080/"
        }
      },
      "execution_count": 81,
      "outputs": [
        {
          "output_type": "stream",
          "name": "stdout",
          "text": [
            "Relevant_Features Index(['Source', 'Destination', 'Class', 'cosine_1', 'cosine_2',\n",
            "       'Page_Rank0_d', 'katz_s', 'katz_d', 'hubs_s', 'authorities_s',\n",
            "       'pref_attachment_1', 'common_neighbour_1', 'svdUFrom_6', 'svdVFrom_2',\n",
            "       'svdVFrom_5', 'svdVFrom_6', 'svdVTo_5'],\n",
            "      dtype='object')\n"
          ]
        }
      ]
    },
    {
      "cell_type": "code",
      "source": [
        "import pickle\n",
        "Models=[LogisticRegression(),KNeighborsClassifier(),DecisionTreeClassifier(),RandomForestClassifier(),XGBClassifier()]\n",
        "i=0\n",
        "for model in Models:\n",
        "  print(\"Model is : \", model)\n",
        "  clf=model\n",
        "  clf.fit(X_train, Y_train)\n",
        "\n",
        "  if(i==3):\n",
        "    pickle. dump(clf, open(\"/content/drive/MyDrive/RandomForest model for NS Project/RandomForestModel.sav\", 'wb'))\n",
        "  i=i+1\n",
        "  print_score(clf, X_train, Y_train, X_test, Y_test, train=True)\n",
        "  print_score(clf, X_train, Y_train, X_test, Y_test, train=False)\n",
        "\n"
      ],
      "metadata": {
        "id": "mlYwExWOsApX",
        "outputId": "61d1d038-7448-4451-997a-1d13239ec240",
        "colab": {
          "base_uri": "https://localhost:8080/"
        }
      },
      "execution_count": 82,
      "outputs": [
        {
          "output_type": "stream",
          "name": "stdout",
          "text": [
            "Model is :  LogisticRegression()\n"
          ]
        },
        {
          "output_type": "stream",
          "name": "stderr",
          "text": [
            "/usr/local/lib/python3.7/dist-packages/sklearn/linear_model/_logistic.py:818: ConvergenceWarning: lbfgs failed to converge (status=1):\n",
            "STOP: TOTAL NO. of ITERATIONS REACHED LIMIT.\n",
            "\n",
            "Increase the number of iterations (max_iter) or scale the data as shown in:\n",
            "    https://scikit-learn.org/stable/modules/preprocessing.html\n",
            "Please also refer to the documentation for alternative solver options:\n",
            "    https://scikit-learn.org/stable/modules/linear_model.html#logistic-regression\n",
            "  extra_warning_msg=_LOGISTIC_SOLVER_CONVERGENCE_MSG,\n"
          ]
        },
        {
          "output_type": "stream",
          "name": "stdout",
          "text": [
            "Train Result:\n",
            "================================================\n",
            "_______________________________________________\n",
            "Confusion Matrix: \n",
            " [[187289  11229]\n",
            " [ 57074 141480]]\n",
            "\n",
            "Accuracy: 82.80\n",
            "Roc_Auc Score: 82.80\n",
            "Precision: 92.65\n",
            "recall: 71.26\n",
            "fl score: 80.56\n",
            "Mcc Score: 0.67\n",
            "Kappa score: 0.66\n",
            "\n",
            "\n",
            "Test Result:\n",
            "================================================\n",
            "_______________________________________________\n",
            "Confusion Matrix: \n",
            " [[80489  4668]\n",
            " [24492 60525]]\n",
            "\n",
            "Accuracy: 82.86\n",
            "Roc_Auc Score: 82.86\n",
            "Precision: 92.84\n",
            "recall: 71.19\n",
            "fl score: 80.59\n",
            "Mcc Score: 0.68\n",
            "Kappa score: 0.66\n",
            "\n",
            "\n",
            "Model is :  KNeighborsClassifier()\n",
            "Train Result:\n",
            "================================================\n",
            "_______________________________________________\n",
            "Confusion Matrix: \n",
            " [[186444  12074]\n",
            " [ 17257 181297]]\n",
            "\n",
            "Accuracy: 92.61\n",
            "Roc_Auc Score: 92.61\n",
            "Precision: 93.76\n",
            "recall: 91.31\n",
            "fl score: 92.52\n",
            "Mcc Score: 0.85\n",
            "Kappa score: 0.85\n",
            "\n",
            "\n",
            "Test Result:\n",
            "================================================\n",
            "_______________________________________________\n",
            "Confusion Matrix: \n",
            " [[77056  8101]\n",
            " [10949 74068]]\n",
            "\n",
            "Accuracy: 88.81\n",
            "Roc_Auc Score: 88.80\n",
            "Precision: 90.14\n",
            "recall: 87.12\n",
            "fl score: 88.61\n",
            "Mcc Score: 0.78\n",
            "Kappa score: 0.78\n",
            "\n",
            "\n",
            "Model is :  DecisionTreeClassifier()\n",
            "Train Result:\n",
            "================================================\n",
            "_______________________________________________\n",
            "Confusion Matrix: \n",
            " [[198518      0]\n",
            " [     1 198553]]\n",
            "\n",
            "Accuracy: 100.00\n",
            "Roc_Auc Score: 100.00\n",
            "Precision: 100.00\n",
            "recall: 100.00\n",
            "fl score: 100.00\n",
            "Mcc Score: 1.00\n",
            "Kappa score: 1.00\n",
            "\n",
            "\n",
            "Test Result:\n",
            "================================================\n",
            "_______________________________________________\n",
            "Confusion Matrix: \n",
            " [[82114  3043]\n",
            " [ 3774 81243]]\n",
            "\n",
            "Accuracy: 95.99\n",
            "Roc_Auc Score: 95.99\n",
            "Precision: 96.39\n",
            "recall: 95.56\n",
            "fl score: 95.97\n",
            "Mcc Score: 0.92\n",
            "Kappa score: 0.92\n",
            "\n",
            "\n",
            "Model is :  RandomForestClassifier()\n",
            "Train Result:\n",
            "================================================\n",
            "_______________________________________________\n",
            "Confusion Matrix: \n",
            " [[198517      1]\n",
            " [     5 198549]]\n",
            "\n",
            "Accuracy: 100.00\n",
            "Roc_Auc Score: 100.00\n",
            "Precision: 100.00\n",
            "recall: 100.00\n",
            "fl score: 100.00\n",
            "Mcc Score: 1.00\n",
            "Kappa score: 1.00\n",
            "\n",
            "\n",
            "Test Result:\n",
            "================================================\n",
            "_______________________________________________\n",
            "Confusion Matrix: \n",
            " [[83031  2126]\n",
            " [ 2618 82399]]\n",
            "\n",
            "Accuracy: 97.21\n",
            "Roc_Auc Score: 97.21\n",
            "Precision: 97.48\n",
            "recall: 96.92\n",
            "fl score: 97.20\n",
            "Mcc Score: 0.94\n",
            "Kappa score: 0.94\n",
            "\n",
            "\n",
            "Model is :  XGBClassifier()\n",
            "Train Result:\n",
            "================================================\n",
            "_______________________________________________\n",
            "Confusion Matrix: \n",
            " [[179831  18687]\n",
            " [ 16059 182495]]\n",
            "\n",
            "Accuracy: 91.25\n",
            "Roc_Auc Score: 91.25\n",
            "Precision: 90.71\n",
            "recall: 91.91\n",
            "fl score: 91.31\n",
            "Mcc Score: 0.83\n",
            "Kappa score: 0.82\n",
            "\n",
            "\n",
            "Test Result:\n",
            "================================================\n",
            "_______________________________________________\n",
            "Confusion Matrix: \n",
            " [[77302  7855]\n",
            " [ 6906 78111]]\n",
            "\n",
            "Accuracy: 91.33\n",
            "Roc_Auc Score: 91.33\n",
            "Precision: 90.86\n",
            "recall: 91.88\n",
            "fl score: 91.37\n",
            "Mcc Score: 0.83\n",
            "Kappa score: 0.83\n",
            "\n",
            "\n"
          ]
        }
      ]
    },
    {
      "cell_type": "code",
      "source": [
        ""
      ],
      "metadata": {
        "id": "8bhYAn-H_6ua"
      },
      "execution_count": null,
      "outputs": []
    },
    {
      "cell_type": "markdown",
      "source": [
        "#**A system with high precision but low recall is just the opposite, returning very few results, but most of its predicted labels are correct when compared to the training labels. An ideal system with high precision and high recall will return many results, with all results labeled correctly.**"
      ],
      "metadata": {
        "id": "IanOIpYwlDJM"
      }
    },
    {
      "cell_type": "markdown",
      "source": [
        "#**HyperParameter_tuning**"
      ],
      "metadata": {
        "id": "HAgoCJdbmWwR"
      }
    },
    {
      "cell_type": "code",
      "source": [
        "# grid={\"C\":np.logspace(-3,3,7), \"penalty\":[\"l1\",\"l2\"]}\n",
        "\n",
        "# # Create grid search object\n",
        "\n",
        "# clf = GridSearchCV(LogisticRegression(), param_grid = grid, cv = 5, verbose=True, n_jobs=-1)\n",
        "\n",
        "# # Fit on data\n",
        "\n",
        "# best_clf = clf.fit(train_pearson, Y_train)\n",
        "# print(\"tuned hpyerparameters :(best parameters) \",best_clf.best_params_)\n",
        "# print(\"accuracy :\",best_clf.best_score_)"
      ],
      "metadata": {
        "id": "UzdB9itU0KOw"
      },
      "execution_count": null,
      "outputs": []
    },
    {
      "cell_type": "code",
      "source": [
        "# clf=LogisticRegression(C= 0.001, penalty='l2')\n",
        "# clf.fit(train_pearson, Y_train)\n",
        "# print_score(clf, train_pearson, Y_train, test_pearson, Y_test, train=True)\n",
        "# print_score(clf, train_pearson, Y_train, test_pearson, Y_test, train=False)"
      ],
      "metadata": {
        "id": "TGNkc6HM2QJQ"
      },
      "execution_count": null,
      "outputs": []
    },
    {
      "cell_type": "code",
      "source": [
        "# tree_para = {'criterion':['gini','entropy'],'max_depth':[4,5,6,7,8,9,10,11,12,15,20,30,40,50,70,90,120,150]}\n",
        "# clf = GridSearchCV(DecisionTreeClassifier(), param_grid = tree_para, cv = 5, verbose=True, n_jobs=-1)\n",
        "\n",
        "# # Fit on data\n",
        "\n",
        "# best_clf = clf.fit(train_pearson, Y_train)\n",
        "# print(\"tuned hpyerparameters :(best parameters) \",best_clf.best_params_)\n",
        "# print(\"accuracy :\",best_clf.best_score_)"
      ],
      "metadata": {
        "id": "xue12jdR25F4"
      },
      "execution_count": null,
      "outputs": []
    },
    {
      "cell_type": "code",
      "source": [
        "# clf=DecisionTreeClassifier(criterion=\"entropy\",max_depth=70)\n",
        "# clf.fit(train_pearson, Y_train)\n",
        "# print_score(clf, train_pearson, Y_train, test_pearson, Y_test, train=True)\n",
        "# print_score(clf, train_pearson, Y_train, test_pearson, Y_test, train=False)"
      ],
      "metadata": {
        "id": "nXf1B2u43D9l"
      },
      "execution_count": null,
      "outputs": []
    },
    {
      "cell_type": "code",
      "source": [
        "# from sklearn.neighbors import KNeighborsClassifier\n",
        "# k_range = list(range(1, 31))\n",
        "# param_grid = dict(n_neighbors=k_range)\n",
        "# clf = GridSearchCV(KNeighborsClassifier(), param_grid = param_grid, cv = 3, verbose=True, n_jobs=-1)\n",
        "\n",
        "# # Fit on data\n",
        "\n",
        "# best_clf = clf.fit(train_pearson, Y_train)\n",
        "# print(\"tuned hpyerparameters :(best parameters) \",best_clf.best_params_)\n",
        "# print(\"accuracy :\",best_clf.best_score_)\n"
      ],
      "metadata": {
        "id": "KfH-KnDf4Vkd"
      },
      "execution_count": null,
      "outputs": []
    },
    {
      "cell_type": "code",
      "source": [
        "# clf = KNeighborsClassifier(n_neighbors=)\n",
        "\n",
        "# clf.fit(train_pearson, Y_train)\n",
        "# print_score(clf, train_pearson, Y_train, test_pearson, Y_test, train=True)\n",
        "# print_score(clf, train_pearson, Y_train, test_pearson, Y_test, train=False)"
      ],
      "metadata": {
        "id": "WMEiO--O5Cid"
      },
      "execution_count": null,
      "outputs": []
    },
    {
      "cell_type": "code",
      "source": [
        "# param_grid = { \n",
        "#     'n_estimators': [200, 500],\n",
        "#     'max_features': ['auto', 'sqrt', 'log2'],\n",
        "#     'max_depth' : [4,5,6,7,8],\n",
        "#     'criterion' :['gini', 'entropy']\n",
        "# }\n",
        "# clf = GridSearchCV(RandomForestClassifier(), param_grid = param_grid, cv = 3, verbose=True, n_jobs=-1)\n",
        "\n",
        "# # Fit on data\n",
        "\n",
        "# best_clf = clf.fit(train_pearson, Y_train)\n",
        "# print(\"tuned hpyerparameters :(best parameters) \",best_clf.best_params_)\n",
        "# print(\"accuracy :\",best_clf.best_score_)"
      ],
      "metadata": {
        "id": "-LTsBPQR5haL"
      },
      "execution_count": null,
      "outputs": []
    },
    {
      "cell_type": "code",
      "source": [
        "# clf=RandomForestClassifier(random_state=42, max_features='', n_estimators= , max_depth=, criterion='')\n",
        "# clf.fit(train_pearson, Y_train)\n",
        "# print_score(clf, train_pearson, Y_train, test_pearson, Y_test, train=True)\n",
        "# print_score(clf, train_pearson, Y_train, test_pearson, Y_test, train=False)"
      ],
      "metadata": {
        "id": "LR4v392L5svq"
      },
      "execution_count": null,
      "outputs": []
    },
    {
      "cell_type": "markdown",
      "source": [
        "#**Vislualization**"
      ],
      "metadata": {
        "id": "LMvAsexQlmkw"
      }
    },
    {
      "cell_type": "code",
      "source": [
        "plt.figure(figsize=(10,10))\n",
        "sns.countplot(y=new_df['Class'] ,data=new_df)\n",
        "\n",
        "plt.xlabel(\"Count of each Target class\")\n",
        "plt.ylabel(\"Target classes\")\n",
        "plt.show()"
      ],
      "metadata": {
        "id": "XcKC7NwolpBI",
        "outputId": "e85a6363-6423-42be-bcf0-02ee665cc5a9",
        "colab": {
          "base_uri": "https://localhost:8080/",
          "height": 606
        }
      },
      "execution_count": 83,
      "outputs": [
        {
          "output_type": "display_data",
          "data": {
            "text/plain": [
              "<Figure size 720x720 with 1 Axes>"
            ],
            "image/png": "[encoded data removed]"
          },
          "metadata": {
            "needs_background": "light"
          }
        }
      ]
    },
    {
      "cell_type": "code",
      "source": [
        "#Correlation Matrix with Heatmap\n",
        "import pandas as pd\n",
        "import numpy as np\n",
        "import seaborn as sns\n",
        "import matplotlib.pyplot as plt\n",
        "\n",
        "#get correlations of each features in dataset\n",
        "corrmat =new_df.corr()\n",
        "top_corr_features = corrmat.index\n",
        "plt.figure(figsize=(20,20))\n",
        "#plot heat map\n",
        "g=sns.heatmap(new_df[top_corr_features].corr(),annot=True,cmap=\"RdYlGn\")"
      ],
      "metadata": {
        "id": "iPBhNuxFl2Wb",
        "outputId": "f28a6fcd-05b7-4662-cccf-7ac3fd035429",
        "colab": {
          "base_uri": "https://localhost:8080/",
          "height": 1000
        }
      },
      "execution_count": 84,
      "outputs": [
        {
          "output_type": "display_data",
          "data": {
            "text/plain": [
              "<Figure size 1440x1440 with 2 Axes>"
            ],
            "image/png": "[encoded data removed]"
          },
          "metadata": {
            "needs_background": "light"
          }
        }
      ]
    },
    {
      "cell_type": "code",
      "source": [
        "#Feature Importance By smallest connection\n",
        "import pandas as pd\n",
        "import numpy as np\n",
        "\n",
        "\n",
        "from sklearn.ensemble import ExtraTreesClassifier\n",
        "import matplotlib.pyplot as plt\n",
        "model = ExtraTreesClassifier()\n",
        "model.fit(X,y)\n",
        "print(model.feature_importances_) #use inbuilt class feature_importances of tree based classifiers\n",
        "#plot graph of feature importances for better visualization\n",
        "feat_importances = pd.Series(model.feature_importances_, index=X.columns)\n",
        "feat_importances.nsmallest(10).plot(kind='barh')\n",
        "plt.show()"
      ],
      "metadata": {
        "id": "S0crxxOUmCWu",
        "outputId": "87bc8888-f1bb-40d3-f0e0-1fa026f3c83f",
        "colab": {
          "base_uri": "https://localhost:8080/",
          "height": 317
        }
      },
      "execution_count": 85,
      "outputs": [
        {
          "output_type": "stream",
          "name": "stdout",
          "text": [
            "[0.06569119 0.04996335 0.03327166 0.02698401 0.04518245 0.06330773\n",
            " 0.04998535 0.16495496 0.06107827 0.04877848 0.03492049 0.1717509\n",
            " 0.02274508 0.05160074 0.06699963 0.0427857 ]\n"
          ]
        },
        {
          "output_type": "display_data",
          "data": {
            "text/plain": [
              "<Figure size 432x288 with 1 Axes>"
            ],
            "image/png": "[encoded data removed]"
          },
          "metadata": {
            "needs_background": "light"
          }
        }
      ]
    },
    {
      "cell_type": "code",
      "source": [
        "#Feature Importance By largest connection\n",
        "import pandas as pd\n",
        "import numpy as np\n",
        "\n",
        "\n",
        "from sklearn.ensemble import ExtraTreesClassifier\n",
        "from sklearn.ensemble import RandomForestClassifier\n",
        "import matplotlib.pyplot as plt\n",
        "model = RandomForestClassifier()\n",
        "model.fit(X,y)\n",
        "print(model.feature_importances_) #use inbuilt class feature_importances of tree based classifiers\n",
        "#plot graph of feature importances for better visualization\n",
        "feat_importances = pd.Series(model.feature_importances_, index=X.columns)\n",
        "feat_importances.nlargest(10).plot(kind='barh')\n",
        "plt.show()"
      ],
      "metadata": {
        "id": "WK_ei2h2mIGR",
        "outputId": "65c4b184-a8fd-4dab-d008-8b45c69309dc",
        "colab": {
          "base_uri": "https://localhost:8080/",
          "height": 317
        }
      },
      "execution_count": 86,
      "outputs": [
        {
          "output_type": "stream",
          "name": "stdout",
          "text": [
            "[0.02969164 0.02701744 0.0223576  0.02526692 0.05057563 0.03951567\n",
            " 0.04446236 0.18422871 0.01975533 0.09125253 0.02406547 0.31459209\n",
            " 0.01810709 0.03580391 0.02756112 0.04574648]\n"
          ]
        },
        {
          "output_type": "display_data",
          "data": {
            "text/plain": [
              "<Figure size 432x288 with 1 Axes>"
            ],
            "image/png": "[encoded data removed]"
          },
          "metadata": {
            "needs_background": "light"
          }
        }
      ]
    },
    {
      "cell_type": "code",
      "source": [
        "new_df.diff().hist(figsize=(15, 15))"
      ],
      "metadata": {
        "id": "qhtUA41FmNs0",
        "outputId": "200a9005-2a38-49b8-82a1-e561ea054722",
        "colab": {
          "base_uri": "https://localhost:8080/",
          "height": 1000
        }
      },
      "execution_count": 87,
      "outputs": [
        {
          "output_type": "execute_result",
          "data": {
            "text/plain": [
              "array([[<matplotlib.axes._subplots.AxesSubplot object at 0x7f19a8c1bd90>,\n",
              "        <matplotlib.axes._subplots.AxesSubplot object at 0x7f19a7152410>,\n",
              "        <matplotlib.axes._subplots.AxesSubplot object at 0x7f19a7385850>,\n",
              "        <matplotlib.axes._subplots.AxesSubplot object at 0x7f19a6fdad50>],\n",
              "       [<matplotlib.axes._subplots.AxesSubplot object at 0x7f19a778a290>,\n",
              "        <matplotlib.axes._subplots.AxesSubplot object at 0x7f19a8156790>,\n",
              "        <matplotlib.axes._subplots.AxesSubplot object at 0x7f19c66a9d10>,\n",
              "        <matplotlib.axes._subplots.AxesSubplot object at 0x7f19c675f190>],\n",
              "       [<matplotlib.axes._subplots.AxesSubplot object at 0x7f19c675f1d0>,\n",
              "        <matplotlib.axes._subplots.AxesSubplot object at 0x7f19a6e217d0>,\n",
              "        <matplotlib.axes._subplots.AxesSubplot object at 0x7f19a7c30110>,\n",
              "        <matplotlib.axes._subplots.AxesSubplot object at 0x7f19a7cb2610>],\n",
              "       [<matplotlib.axes._subplots.AxesSubplot object at 0x7f19a7ddbb10>,\n",
              "        <matplotlib.axes._subplots.AxesSubplot object at 0x7f19a8b0efd0>,\n",
              "        <matplotlib.axes._subplots.AxesSubplot object at 0x7f19a733e5d0>,\n",
              "        <matplotlib.axes._subplots.AxesSubplot object at 0x7f19a71baad0>],\n",
              "       [<matplotlib.axes._subplots.AxesSubplot object at 0x7f19a718cb10>,\n",
              "        <matplotlib.axes._subplots.AxesSubplot object at 0x7f19a8377510>,\n",
              "        <matplotlib.axes._subplots.AxesSubplot object at 0x7f19c5e16a10>,\n",
              "        <matplotlib.axes._subplots.AxesSubplot object at 0x7f19c5e3cf10>]],\n",
              "      dtype=object)"
            ]
          },
          "metadata": {},
          "execution_count": 87
        },
        {
          "output_type": "display_data",
          "data": {
            "text/plain": [
              "<Figure size 1080x1080 with 20 Axes>"
            ],
            "image/png": "[encoded data removed]"
          },
          "metadata": {
            "needs_background": "light"
          }
        }
      ]
    },
    {
      "cell_type": "markdown",
      "source": [
        "#Creating Test DataFrame"
      ],
      "metadata": {
        "id": "OZ0B1-6u-feQ"
      }
    },
    {
      "cell_type": "code",
      "source": [
        "test_data=pd.read_csv(\"/content/drive/MyDrive/NS Project Dataset/testing.txt\", sep=\" \", header=None, names= [\"source\", \"target\"])\n",
        "g1 = nx.from_pandas_edgelist(test_data, create_using = nx.Graph())\n",
        "print(nx.is_connected(g1))\n",
        "print(nx.number_connected_components(g1))\n",
        "test_data = test_data.rename(columns={\"source\": \"Source\", \"target\": \"Destination\"})\n",
        "test_data.groupby(['Source','Destination']).ngroups\n",
        "test_data = test_data.drop_duplicates()\n",
        "test_data= test_data.dropna()\n",
        "test_data.shape\n",
        "test_graph = nx.DiGraph()\n",
        "\n",
        "for index,row in tqdm(test_data.iterrows()):\n",
        "  source = row['Source']\n",
        "  dest =  row['Destination']\n",
        "  test_graph.add_edge(source,dest)\n",
        "\n",
        "print(nx.info(test_graph))\n",
        "test_labels = np.ones(len(test_graph.edges()), dtype = int)\n",
        "test_labels = test_labels.tolist()\n",
        "\n",
        "test_data['Class'] = test_labels\n",
        "print(test_data.shape)\n",
        "test_data.head(2)\n",
        "edge_count = 0\n",
        "negative_list = []\n",
        "nodesList = list(test_graph.nodes())\n",
        "\n",
        "while edge_count < (len(test_graph.edges())/4):\n",
        "  u = random.choice(nodesList)\n",
        "  v = random.choice(nodesList)\n",
        "\n",
        "  if u!=v and test_graph.has_edge(u,v) == False:\n",
        "    try:\n",
        "      #Add edge to negative edge only if shortest path between u and v is greater than 2\n",
        "      if nx.shortest_path_length(test_graph, source = u, target = v) > 2:\n",
        "        negative_list.append((u,v,0))\n",
        "        edge_count +=1\n",
        "\n",
        "    except Exception as e:\n",
        "      negative_list.append((u,v,0))\n",
        "      edge_count +=1\n",
        "\n",
        "negative_edges_test = pd.DataFrame(negative_list, columns = ['Source', 'Destination', 'Class'])\n",
        "print(negative_edges_test.shape)\n",
        "negative_edges_test.head(2)\n",
        "labeled_test_data = pd.concat([test_data,negative_edges_test])\n",
        "print(labeled_test_data.shape)\n",
        "labeled_test_data.head(2)\n",
        "\n",
        "#randomly shuffle test data\n",
        "labeled_test_data = labeled_test_data.sample(frac = 1).reset_index(drop=True)\n",
        "labeled_test_data.head(5)\n",
        "test_df = labeled_test_data.copy()\n",
        "Y_test = labeled_test_data['Class']\n",
        "\n",
        "test_df.head(5)\n",
        "test_df = extract_features(test_df,test_graph)\n",
        "test_df=clean_dataset(test_df)\n",
        "class_counts1 = test_df['Class'].value_counts()\n",
        "class_weights1 = len(class_counts1)/class_counts1\n",
        "test_df = test_df.sample(\n",
        "    n=class_counts1.max()*len(class_counts1),\n",
        "    weights=test_df['Class'].map(class_weights1), \n",
        "    replace=True)\n",
        "\n",
        "test_df=test_df[relevant_features.keys()]\n",
        "test_df.to_csv(\"/content/drive/MyDrive/RandomForest model for NS Project/TestingDataframe.csv\")\n",
        "negative_features = extract_features(negative_edges_test,test_graph)\n",
        "negative_features=negative_features[relevant_features.keys()]\n",
        "negative_features.to_csv('/content/drive/MyDrive/RandomForest model for NS Project/negative_edges_features.csv', index = False)"
      ],
      "metadata": {
        "id": "LSe4VVXo_anj",
        "outputId": "8a809a0e-b4bc-4c2e-ccd8-e1e9214457f4",
        "colab": {
          "base_uri": "https://localhost:8080/"
        }
      },
      "execution_count": 98,
      "outputs": [
        {
          "output_type": "stream",
          "name": "stdout",
          "text": [
            "False\n",
            "10\n"
          ]
        },
        {
          "output_type": "stream",
          "name": "stderr",
          "text": [
            "113450it [00:12, 8914.74it/s] \n"
          ]
        },
        {
          "output_type": "stream",
          "name": "stdout",
          "text": [
            "DiGraph with 32740 nodes and 113450 edges\n",
            "(113450, 3)\n",
            "(28363, 3)\n",
            "(141813, 3)\n"
          ]
        }
      ]
    }
  ],
  "metadata": {
    "accelerator": "GPU",
    "colab": {
      "collapsed_sections": [],
      "name": "NS_Project_Code.ipynb",
      "provenance": []
    },
    "kernelspec": {
      "display_name": "Python 3",
      "name": "python3"
    },
    "language_info": {
      "name": "python"
    }
  },
  "nbformat": 4,
  "nbformat_minor": 0
}